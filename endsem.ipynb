{
 "cells": [
  {
   "cell_type": "markdown",
   "metadata": {},
   "source": [
    "# END-SEMESTER EXAM\n"
   ]
  },
  {
   "cell_type": "code",
   "execution_count": 172,
   "metadata": {},
   "outputs": [],
   "source": [
    "from lib.matrix import Matrix\n",
    "from lib.linalg import power_iteration, norm\n",
    "import numpy as np\n",
    "from scipy.optimize import curve_fit\n",
    "from lib.stats import (\n",
    "    chi2,\n",
    ")\n",
    "\n",
    "import matplotlib.pyplot as plt"
   ]
  },
  {
   "cell_type": "markdown",
   "metadata": {},
   "source": [
    "### Question 1"
   ]
  },
  {
   "cell_type": "code",
   "execution_count": 173,
   "metadata": {},
   "outputs": [
    {
     "name": "stdout",
     "output_type": "stream",
     "text": [
      "[1.08594453e+02 8.42063772e-03]\n",
      "Observed data: \n",
      "[106  80  98  75  74  73  49  38  37  22]\n",
      "Expected data: \n",
      "[107.68385805  95.70884955  84.35222612  74.34315724  65.52174475\n",
      "  57.74706367  50.89491093  44.85582112  39.5333178   34.84237224]\n",
      "Chi-square statistical value: \n",
      "15.958704778789617\n",
      "Degrees of freedom: \n",
      "9\n",
      "Critical value at 5% significance level: \n",
      "16.919\n",
      "Fit is acceptable\n"
     ]
    },
    {
     "name": "stderr",
     "output_type": "stream",
     "text": [
      "/tmp/ipykernel_480526/1917238598.py:21: RuntimeWarning: overflow encountered in exp\n",
      "  return n0 * np.exp(-lam*t)\n"
     ]
    },
    {
     "data": {
      "image/png": "[encoded data removed]",
      "text/plain": [
       "<Figure size 640x480 with 1 Axes>"
      ]
     },
     "metadata": {},
     "output_type": "display_data"
    }
   ],
   "source": [
    "data = [\n",
    "    [1, 106, 10],\n",
    "    [15, 80, 9],\n",
    "    [30, 98, 10],\n",
    "    [45, 75, 9],\n",
    "    [60, 74, 8],\n",
    "    [75, 73, 8],\n",
    "    [90, 49, 7],\n",
    "    [105, 38, 6],\n",
    "    [120, 37, 6],\n",
    "    [135, 22, 5],\n",
    "]\n",
    "\n",
    "data = np.array(data)\n",
    "\n",
    "t = data[:, 0]\n",
    "counts = data[:, 1]\n",
    "uncerts = data[:, 2]\n",
    "\n",
    "def decay(t, n0, lam):\n",
    "    return n0 * np.exp(-lam*t)\n",
    "\n",
    "popt, pcov = curve_fit(decay, t, counts)\n",
    "\n",
    "expected_counts = decay(t, popt[0], popt[1])\n",
    "\n",
    "\n",
    "\n",
    "print(popt)\n",
    "\n",
    "plt.plot(t, counts)\n",
    "plt.plot(t, decay(t, popt[0], popt[1]))\n",
    "\n",
    "print(f\"Observed data: \\n{counts}\")\n",
    "\n",
    "print(f\"Expected data: \\n{expected_counts}\")\n",
    "\n",
    "# Chi-square test\n",
    "chi_square_statistical = chi2(counts, expected_counts)\n",
    "print(f\"Chi-square statistical value: \\n{chi_square_statistical}\")\n",
    "# Degrees of freedom\n",
    "df = len(t) - 1\n",
    "print(f\"Degrees of freedom: \\n{df}\")\n",
    "# Critical value for 5% significance level\n",
    "critical_at_5 = 16.919 # (from table)\n",
    "print(f\"Critical value at 5% significance level: \\n{critical_at_5}\")\n",
    "# Check for null hypothesis\n",
    "if chi_square_statistical < critical_at_5:\n",
    "    print(\"Fit is acceptable\")\n",
    "\n",
    "\n"
   ]
  },
  {
   "cell_type": "markdown",
   "metadata": {},
   "source": [
    "### Question 2"
   ]
  },
  {
   "cell_type": "markdown",
   "metadata": {},
   "source": [
    "We use the following expression for $V$\n",
    "\n",
    "$$\n",
    "V = b + \\dfrac{V^2}{a} (pb + RT) - V^3 p\n",
    "$$\n",
    "\n",
    "as our fixed point equation."
   ]
  },
  {
   "cell_type": "code",
   "execution_count": 174,
   "metadata": {},
   "outputs": [],
   "source": [
    "def fixed_point(x0: float, tol: float, maxiter: int) -> float:\n",
    "    \"\"\"\n",
    "    Find the root of a non-linear equation using the fixed point method.\n",
    "\n",
    "    Parameters\n",
    "    ----------\n",
    "    func : Callable\n",
    "        The function whose root is to be found.\n",
    "\n",
    "    x0 : float\n",
    "        The initial guess for the root.\n",
    "\n",
    "    tol : float\n",
    "        The tolerance for the root.\n",
    "\n",
    "    maxiter : int\n",
    "        The maximum number of iterations to perform.\n",
    "\n",
    "    Returns\n",
    "    -------\n",
    "    float\n",
    "        The root of the function.\n",
    "    \"\"\"\n",
    "\n",
    "    def g(V):\n",
    "        T = 300\n",
    "        p = 5.95\n",
    "        R = 0.0821\n",
    "        a = 6.254\n",
    "        b = 0.05422\n",
    "        return b + V**2 / a * (p*b + R*T) - V**3 * p \n",
    "\n",
    "    x = x0\n",
    "    for _ in range(maxiter):\n",
    "        x_new = g(x)\n",
    "        if abs(x_new - x) < tol:\n",
    "            return x_new\n",
    "        x = x_new\n",
    "    raise RuntimeError(\n",
    "        \"Failed to converge. Try increasing the maximum number of iterations.\"\n",
    "    )"
   ]
  },
  {
   "cell_type": "code",
   "execution_count": 175,
   "metadata": {},
   "outputs": [],
   "source": [
    "\n",
    "T = 300\n",
    "p = 5.95\n",
    "R = 0.0821\n",
    "a = 6.254\n",
    "b = 0.05422"
   ]
  },
  {
   "cell_type": "code",
   "execution_count": 176,
   "metadata": {},
   "outputs": [
    {
     "name": "stdout",
     "output_type": "stream",
     "text": [
      "The volume of $Cl_2$ at P = 5.95 and temperature T = 300 is V = 0.07332630059944875\n"
     ]
    }
   ],
   "source": [
    "sol = fixed_point(1e-4, 1e-6, 10000)\n",
    "print(f\"The volume of $Cl_2$ at P = {p} and temperature T = {T} is V = {sol}\")"
   ]
  },
  {
   "cell_type": "markdown",
   "metadata": {},
   "source": [
    "It is possible to get two different solutions by using different $g(x)$ functions\n",
    "in the fixed-point method because in the fixed point method we solve the following equation\n",
    "$$\n",
    "x = g(x)\n",
    "$$\n",
    "\n",
    "Now if $g(x)$ is scaled by a scalar or "
   ]
  },
  {
   "cell_type": "markdown",
   "metadata": {},
   "source": [
    "### Question 3"
   ]
  },
  {
   "cell_type": "markdown",
   "metadata": {},
   "source": [
    "In the submitted answer sheet."
   ]
  },
  {
   "cell_type": "markdown",
   "metadata": {},
   "source": [
    "### Question 4"
   ]
  },
  {
   "cell_type": "markdown",
   "metadata": {},
   "source": [
    "In the submitted answer sheet."
   ]
  },
  {
   "cell_type": "markdown",
   "metadata": {},
   "source": [
    "### Question 5"
   ]
  },
  {
   "cell_type": "code",
   "execution_count": 177,
   "metadata": {},
   "outputs": [],
   "source": [
    "A = [[2, -1, -0, 0, 0], [-1,   2,  -1,   0,   0], [0,  -1,   2,  -1,   0], [0,   0,  -1,   2,  -1],\n",
    "     [0 ,  0 ,  0,  -1,   2]]\n",
    "\n",
    "A = Matrix.from_list(A)"
   ]
  },
  {
   "cell_type": "code",
   "execution_count": 178,
   "metadata": {},
   "outputs": [
    {
     "name": "stdout",
     "output_type": "stream",
     "text": [
      "Largest eigenvalue of A: 3.7321\n",
      "Corresponding eigenvector: ([0.2889, -0.5, 0.5772, -0.5, 0.2889], double)\n"
     ]
    }
   ],
   "source": [
    "max_eigval_A, sol_A = power_iteration(A)\n",
    "\n",
    "print(f\"Largest eigenvalue of A: {round(max_eigval_A, 4)}\")\n",
    "print(f\"Corresponding eigenvector: {round(sol_A, 4)}\")"
   ]
  },
  {
   "cell_type": "code",
   "execution_count": 179,
   "metadata": {},
   "outputs": [
    {
     "name": "stdout",
     "output_type": "stream",
     "text": [
      "Largest eigenvalue of B: 2.0\n",
      "Corresponding eigenvector: ([0.5772, 0.0003, -0.5777, 0.0003, 0.5772], double)\n"
     ]
    }
   ],
   "source": [
    "# Now using deflation to find next largest eigenvalue and eigenvector\n",
    "def get_matrix_B(x):\n",
    "    \"\"\"\n",
    "    Define C = V V^T matrix\n",
    "    \"\"\"\n",
    "    n = len(x)\n",
    "    B = Matrix(n, n)\n",
    "    t1 = max_eigval_A/norm(x)\n",
    "    for i in range(n):\n",
    "        for j in range(n):\n",
    "            B[i, j] = x[i] * x[j] * t1\n",
    "\n",
    "    return B\n",
    "\n",
    "B = get_matrix_B(sol_A)\n",
    "\n",
    "B = A-B\n",
    "max_eigval_B, sol_B = power_iteration(B)\n",
    "\n",
    "print(f\"Largest eigenvalue of B: {round(max_eigval_B, 4)}\")\n",
    "print(f\"Corresponding eigenvector: {round(sol_B, 4)}\")\n",
    "\n"
   ]
  },
  {
   "cell_type": "markdown",
   "metadata": {},
   "source": [
    "### Question 6"
   ]
  },
  {
   "cell_type": "code",
   "execution_count": 180,
   "metadata": {},
   "outputs": [
    {
     "data": {
      "image/png": "[encoded data removed]",
      "text/plain": [
       "<Figure size 640x480 with 1 Axes>"
      ]
     },
     "metadata": {},
     "output_type": "display_data"
    }
   ],
   "source": [
    "import numpy as np\n",
    "import matplotlib.pyplot as plt\n",
    "\n",
    "def pdf(x):\n",
    "    \"\"\"\n",
    "    Define the probability density function (pdf) p(x).\n",
    "    \"\"\"\n",
    "    a = 2\n",
    "    if np.abs(x) < a:\n",
    "        return 0.5 / (a**2 - x**2)\n",
    "    else:\n",
    "        return 0\n",
    "\n",
    "def g(x):\n",
    "    return 1.0  # A constant function that is greater than or equal to p(x)\n",
    "\n",
    "def generate_sample(g):\n",
    "    while True:\n",
    "        x = np.random.uniform(-2, 2)  # Assuming domain of x is -2 to 2 based on the provided pdf\n",
    "        \n",
    "        # Step 3: Generate another random number from a uniform distribution\n",
    "        # between 0 and g(x)\n",
    "        u = np.random.uniform(0, g(x))\n",
    "        \n",
    "        # Step 4: Accept or reject\n",
    "        if u <= pdf(x):\n",
    "            return x\n",
    "\n",
    "# Generate samples\n",
    "samples = [generate_sample(g) for _ in range(10000)]\n",
    "\n",
    "# Plot histogram of generated samples\n",
    "plt.hist(samples, bins=50, density=True, alpha=0.6, color='b')\n",
    "plt.xlabel('x')\n",
    "plt.ylabel('Frequency')\n",
    "plt.title('Histogram of Generated Samples')\n",
    "plt.show()\n"
   ]
  },
  {
   "cell_type": "markdown",
   "metadata": {},
   "source": [
    "### Question 7"
   ]
  },
  {
   "cell_type": "code",
   "execution_count": 183,
   "metadata": {},
   "outputs": [
    {
     "name": "stdout",
     "output_type": "stream",
     "text": [
      "Minimum energy: 6.896509482472113e-07\n",
      "Corresponding 'a' value: 0.1\n"
     ]
    }
   ],
   "source": [
    "import numpy as np\n",
    "\n",
    "def p(x, a):\n",
    "    if abs(x) < a:\n",
    "        return 0.5 / (a**2 - x**2)\n",
    "    else:\n",
    "        return 0\n",
    "\n",
    "def kinetic_energy(x):\n",
    "    return 0.5 * x**2\n",
    "\n",
    "def potential_energy(x):\n",
    "    return 0.5 * x**2\n",
    "\n",
    "def metropolis(x, a, delta):\n",
    "    x_new = x + np.random.uniform(-delta, delta)\n",
    "    acceptance_ratio = (p(x_new, a) / p(x, a))**2\n",
    "    if np.random.rand() < acceptance_ratio:\n",
    "        return x_new\n",
    "    else:\n",
    "        return x\n",
    "\n",
    "def variational_monte_carlo(a_values, num_steps, delta):\n",
    "    energies = []\n",
    "    for a in a_values:\n",
    "        energy_sum = 0.0\n",
    "        x = 0.0  # Initial position\n",
    "        for _ in range(num_steps):\n",
    "            x = metropolis(x, a, delta)\n",
    "            energy_sum += (kinetic_energy(x) + potential_energy(x)) / p(x, a)\n",
    "        energy_avg = energy_sum / num_steps\n",
    "        energies.append(energy_avg)\n",
    "    return energies\n",
    "\n",
    "# Parameters\n",
    "a_values = np.linspace(0.1, 2.0, 20)  # 20 equally spaced a-values\n",
    "num_steps = 20000  # 20k Monte Carlo steps\n",
    "delta = 1.0  # Step size for Metropolis algorithm\n",
    "\n",
    "# Perform VMC\n",
    "energies = variational_monte_carlo(a_values, num_steps, delta)\n",
    "\n",
    "# Find the minimum energy and corresponding a-value\n",
    "min_energy_index = np.argmin(energies)\n",
    "min_energy = energies[min_energy_index]\n",
    "min_a = a_values[min_energy_index]\n",
    "\n",
    "print(\"Minimum energy:\", min_energy)\n",
    "print(\"Corresponding 'a' value:\", min_a)\n"
   ]
  }
 ],
 "metadata": {
  "kernelspec": {
   "display_name": "pegasis",
   "language": "python",
   "name": "python3"
  },
  "language_info": {
   "codemirror_mode": {
    "name": "ipython",
    "version": 3
   },
   "file_extension": ".py",
   "mimetype": "text/x-python",
   "name": "python",
   "nbconvert_exporter": "python",
   "pygments_lexer": "ipython3",
   "version": "3.11.8"
  }
 },
 "nbformat": 4,
 "nbformat_minor": 2
}
