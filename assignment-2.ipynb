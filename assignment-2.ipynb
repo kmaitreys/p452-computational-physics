{
 "cells": [
  {
   "cell_type": "markdown",
   "metadata": {},
   "source": [
    "# Assignment 2"
   ]
  },
  {
   "cell_type": "code",
   "execution_count": 1,
   "metadata": {},
   "outputs": [],
   "source": [
    "from lib.linalg import (\n",
    "    Cholesky,\n",
    "    GaussSeidel,\n",
    "    GaussJordan,\n",
    "    LUSolve,\n",
    "    ConjugateGradient,\n",
    "    # conjugate_gradient,\n",
    "    inverse_conjugate_gradient,\n",
    "    inverse_conjugate_gradient_no_matrix,\n",
    ")\n",
    "from lib.array import Array, zeros\n",
    "from lib.matrix import Matrix"
   ]
  },
  {
   "cell_type": "markdown",
   "metadata": {},
   "source": [
    "### Question 1"
   ]
  },
  {
   "cell_type": "markdown",
   "metadata": {},
   "source": [
    "#### Using Cholesky"
   ]
  },
  {
   "cell_type": "code",
   "execution_count": 2,
   "metadata": {},
   "outputs": [
    {
     "name": "stdout",
     "output_type": "stream",
     "text": [
      "Matrix A: \n",
      "       4.0       -1.0        0.0       -1.0        0.0        0.0\n",
      "      -1.0        4.0       -1.0        0.0       -1.0        0.0\n",
      "       0.0       -1.0        4.0        0.0        0.0       -1.0\n",
      "      -1.0        0.0        0.0        4.0       -1.0        0.0\n",
      "       0.0       -1.0        0.0       -1.0        4.0       -1.0\n",
      "       0.0        0.0       -1.0        0.0       -1.0        4.0\n",
      "Decomposed matrix L: \n",
      "       2.0       -0.5        0.0       -0.5        0.0        0.0\n",
      "      -0.5    1.93649    -0.5164    -0.1291    -0.5164        0.0\n",
      "       0.0    -0.5164    1.93218    -0.0345   -0.13801   -0.51755\n",
      "      -0.5    -0.1291    -0.0345    1.93188   -0.55461   -0.00924\n",
      "       0.0    -0.5164   -0.13801   -0.55461    1.84572   -0.58327\n",
      "       0.0        0.0   -0.51755   -0.00924   -0.58327     1.8417\n",
      "Solution vector b: \n",
      "([1.0, 1.0, 1.0, 1.0, 1.0, 1.0], double)\n"
     ]
    }
   ],
   "source": [
    "A = [\n",
    "    [4, -1, 0, -1, 0, 0],\n",
    "    [-1, 4, -1, 0, -1, 0],\n",
    "    [0, -1, 4, 0, 0, -1],\n",
    "    [-1, 0, 0, 4, -1, 0],\n",
    "    [0, -1, 0, -1, 4, -1],\n",
    "    [0, 0, -1, 0, -1, 4],\n",
    "]\n",
    "b = [2, 1, 2, 2, 1, 2]\n",
    "matrix = Matrix.from_list(A)\n",
    "print(f\"Matrix A: \\n{matrix}\")\n",
    "# Initialize the Cholesky solver\n",
    "sol = Cholesky(matrix, b)\n",
    "sol.decompose()\n",
    "x = sol.solve()\n",
    "print(f\"Decomposed matrix L: \\n{sol.L}\")\n",
    "print(f\"Solution vector b: \\n{x}\")"
   ]
  },
  {
   "cell_type": "markdown",
   "metadata": {},
   "source": [
    "#### Using Gauss-Seidel"
   ]
  },
  {
   "cell_type": "code",
   "execution_count": 3,
   "metadata": {},
   "outputs": [
    {
     "name": "stdout",
     "output_type": "stream",
     "text": [
      "Matrix A: \n",
      "       4.0       -1.0        0.0       -1.0        0.0        0.0\n",
      "      -1.0        4.0       -1.0        0.0       -1.0        0.0\n",
      "       0.0       -1.0        4.0        0.0        0.0       -1.0\n",
      "      -1.0        0.0        0.0        4.0       -1.0        0.0\n",
      "       0.0       -1.0        0.0       -1.0        4.0       -1.0\n",
      "       0.0        0.0       -1.0        0.0       -1.0        4.0\n",
      "Solution vector x: \n",
      "([1.0, 1.0, 1.0, 1.0, 1.0, 1.0], double)\n"
     ]
    }
   ],
   "source": [
    "A = [\n",
    "    [4, -1, 0, -1, 0, 0],\n",
    "    [-1, 4, -1, 0, -1, 0],\n",
    "    [0, -1, 4, 0, 0, -1],\n",
    "    [-1, 0, 0, 4, -1, 0],\n",
    "    [0, -1, 0, -1, 4, -1],\n",
    "    [0, 0, -1, 0, -1, 4],\n",
    "]\n",
    "b = Array(\"d\", [2, 1, 2, 2, 1, 2])\n",
    "matrix = Matrix.from_list(A)\n",
    "print(f\"Matrix A: \\n{matrix}\")\n",
    "\n",
    "# Initialize the Gauss-Seidel solver\n",
    "sol = GaussSeidel(matrix, b, tol=1e-6)\n",
    "x = sol.solve()\n",
    "print(f\"Solution vector x: \\n{x}\")"
   ]
  },
  {
   "cell_type": "markdown",
   "metadata": {},
   "source": [
    "### Question 2"
   ]
  },
  {
   "cell_type": "code",
   "execution_count": 4,
   "metadata": {},
   "outputs": [],
   "source": [
    "A = [\n",
    "    [0, 4, 2, 0, 1],\n",
    "    [4, 0, 4, 10, 1],\n",
    "    [2, 5, 1, 3, 13],\n",
    "    [11, 3, 0, 1, 2],\n",
    "    [3, 2, 7, 1, 0],\n",
    "]\n",
    "b = Array(\"d\", [20, 15, 92, 51, 15])"
   ]
  },
  {
   "cell_type": "markdown",
   "metadata": {},
   "source": [
    "#### Using Gauss-Jordan"
   ]
  },
  {
   "cell_type": "code",
   "execution_count": 5,
   "metadata": {},
   "outputs": [
    {
     "name": "stdout",
     "output_type": "stream",
     "text": [
      "Matrix A: \n",
      "       0.0        4.0        2.0        0.0        1.0\n",
      "       4.0        0.0        4.0       10.0        1.0\n",
      "       2.0        5.0        1.0        3.0       13.0\n",
      "      11.0        3.0        0.0        1.0        2.0\n",
      "       3.0        2.0        7.0        1.0        0.0\n",
      "Solution vector x: \n",
      "([2.6746, 3.71189, -0.05331, -0.07443, 5.25907], double)\n"
     ]
    }
   ],
   "source": [
    "matrix = Matrix.from_list(A)\n",
    "print(f\"Matrix A: \\n{matrix}\")\n",
    "sol = GaussJordan(matrix, b)\n",
    "\n",
    "x = sol.solve()\n",
    "\n",
    "print(f\"Solution vector x: \\n{x}\")"
   ]
  },
  {
   "cell_type": "markdown",
   "metadata": {},
   "source": [
    "#### Using LU-decomposition (Doolitle)"
   ]
  },
  {
   "cell_type": "code",
   "execution_count": 6,
   "metadata": {},
   "outputs": [
    {
     "name": "stdout",
     "output_type": "stream",
     "text": [
      "Matrix A: \n",
      "       0.0        4.0        2.0        0.0        1.0\n",
      "       4.0        0.0        4.0       10.0        1.0\n",
      "       2.0        5.0        1.0        3.0       13.0\n",
      "      11.0        3.0        0.0        1.0        2.0\n",
      "       3.0        2.0        7.0        1.0        0.0\n",
      "Solution vector x: \n",
      "([2.6746, 3.71189, -0.05331, -0.07443, 5.25907], double)\n"
     ]
    }
   ],
   "source": [
    "matrix = Matrix.from_list(A)\n",
    "print(f\"Matrix A: \\n{matrix}\")\n",
    "\n",
    "# Initialize the LU solver\n",
    "sol = LUSolve(matrix, b, method=\"doolittle\")\n",
    "x = sol.solve()\n",
    "\n",
    "print(f\"Solution vector x: \\n{x}\")"
   ]
  },
  {
   "cell_type": "markdown",
   "metadata": {},
   "source": [
    "### Question 3"
   ]
  },
  {
   "cell_type": "code",
   "execution_count": 7,
   "metadata": {},
   "outputs": [
    {
     "name": "stdout",
     "output_type": "stream",
     "text": [
      "Solution vector x: \n",
      "([-0.33334, 0.33333, 1.0, -0.66667, -0.0, 0.66667], double)\n"
     ]
    }
   ],
   "source": [
    "A = [\n",
    "    [2, -3, 0, 0, 0, 0],\n",
    "    [-1, 4, -1, 0, -1, 0],\n",
    "    [0, -1, 4, 0, 0, -1],\n",
    "    [0, 0, 0, 2, -3, 0],\n",
    "    [0, -1, 0, -1, 4, -1],\n",
    "    [0, 0, -1, 0, -1, 4],\n",
    "]\n",
    "\n",
    "A = Matrix.from_list(A)\n",
    "\n",
    "b = Array(\"d\", [-5/3, 2/3, 3, -4/3, -1/3, 5/3])\n",
    "\n",
    "sol = ConjugateGradient(A, b)\n",
    "\n",
    "sol, _ = sol.solve()\n",
    "\n",
    "print(f\"Solution vector x: \\n{round(sol.x0, 5)}\")"
   ]
  },
  {
   "cell_type": "code",
   "execution_count": 8,
   "metadata": {},
   "outputs": [],
   "source": [
    "# A = [\n",
    "#     [2, -3, 0, 0, 0, 0],\n",
    "#     [-1, 4, -1, 0, -1, 0],\n",
    "#     [0, -1, 4, 0, 0, -1],\n",
    "#     [0, 0, 0, 2, -3, 0],\n",
    "#     [0, -1, 0, -1, 4, -1],\n",
    "#     [0, 0, -1, 0, -1, 4],\n",
    "# ]\n",
    "\n",
    "# A = Matrix.from_list(A)\n",
    "\n",
    "# b = Array(\"d\", [-5/3, 2/3, 3, -4/3, -1/3, 5/3])\n",
    "\n",
    "# x, res = conjugate_gradient(A, b)\n",
    "\n",
    "# print(f\"Conjugate Gradient solution: \\n{round(x, 10)}\")\n",
    "\n",
    "# # Verifies the solution\n",
    "# assert round(A * x, 2) == round(b, 2)"
   ]
  },
  {
   "cell_type": "code",
   "execution_count": 9,
   "metadata": {},
   "outputs": [
    {
     "name": "stdout",
     "output_type": "stream",
     "text": [
      "Inverse Conjugate Gradient solution: \n",
      "   0.93507    0.87013    0.25974     0.2078    0.41559    0.16883\n",
      "   0.29004    0.58009    0.17316    0.13853    0.27706    0.11255\n",
      "   0.08658    0.17316    0.32035    0.05627    0.11255    0.10822\n",
      "    0.2078    0.41559    0.16883    0.93507    0.87013    0.25974\n",
      "   0.13853    0.27706    0.11255    0.29004    0.58009    0.17316\n",
      "   0.05627    0.11255    0.10822    0.08658    0.17316    0.32035\n",
      "Solution: \n",
      "       1.0       -0.0        0.0        0.0        0.0        0.0\n",
      "      -0.0        1.0       -0.0        0.0        0.0       -0.0\n",
      "       0.0        0.0        1.0       -0.0       -0.0       -0.0\n",
      "       0.0        0.0        0.0        1.0       -0.0        0.0\n",
      "       0.0        0.0       -0.0       -0.0        1.0        0.0\n",
      "      -0.0       -0.0       -0.0        0.0        0.0        1.0\n",
      "Identity: \n",
      "       1.0        0.0        0.0        0.0        0.0        0.0\n",
      "       0.0        1.0        0.0        0.0        0.0        0.0\n",
      "       0.0        0.0        1.0        0.0        0.0        0.0\n",
      "       0.0        0.0        0.0        1.0        0.0        0.0\n",
      "       0.0        0.0        0.0        0.0        1.0        0.0\n",
      "       0.0        0.0        0.0        0.0        0.0        1.0\n"
     ]
    }
   ],
   "source": [
    "A_inv = inverse_conjugate_gradient(A)\n",
    "\n",
    "print(f\"Inverse Conjugate Gradient solution: \\n{A_inv}\")\n",
    "\n",
    "# Verifies the solution\n",
    "print(f\"Solution: \\n{round(A * A_inv, 2)}\")\n",
    "\n",
    "print(f\"Identity: \\n{Matrix.identity(6)}\")\n",
    "\n",
    "\n",
    "# Verifies the solution\n",
    "tol = 1e-4\n",
    "for i in range(6):\n",
    "    for j in range(6):\n",
    "        if i == j:\n",
    "            try:\n",
    "                assert abs(A * A_inv - Matrix.identity(6))[i][j] < tol\n",
    "            except AssertionError:\n",
    "                print(f\"AssertionError: {abs(A * A_inv - Matrix.identity(6))[i][j]}\")\n",
    "        else:\n",
    "            try:\n",
    "                assert abs(A * A_inv - Matrix.identity(6))[i][j] < tol\n",
    "            except AssertionError:\n",
    "                print(f\"AssertionError: {abs(A * A_inv - Matrix.identity(6))[i][j]}\")"
   ]
  },
  {
   "cell_type": "markdown",
   "metadata": {},
   "source": [
    "### Question 4"
   ]
  },
  {
   "cell_type": "code",
   "execution_count": 10,
   "metadata": {},
   "outputs": [
    {
     "data": {
      "image/png": "[encoded data removed]",
      "text/plain": [
       "<Figure size 640x480 with 1 Axes>"
      ]
     },
     "metadata": {},
     "output_type": "display_data"
    },
    {
     "name": "stdout",
     "output_type": "stream",
     "text": [
      "Inverse Conjugate Gradient solution: \n",
      "   3.38855    4.25301    4.77723    4.91927    4.66776    4.04284    3.09449    1.89858    0.55078   -0.84108   -2.16565   -3.31697   -4.20293   -4.75266   -4.92218   -4.69792   -4.09783   -3.16991    -1.9884   -0.64782    0.74459    2.07743    3.24408     4.1512    4.72622    4.92315    4.72622     4.1512    3.24408    2.07743    0.74459   -0.64782    -1.9884   -3.16991   -4.09783   -4.69792   -4.92218   -4.75266   -4.20293   -3.31697   -2.16565   -0.84108    0.55078    1.89858    3.09449    4.04284    4.66776    4.91927    4.77723    4.25301\n",
      "   4.25301    3.38855    4.25301    4.77723    4.91927    4.66776    4.04284    3.09449    1.89858    0.55078   -0.84108   -2.16565   -3.31697   -4.20293   -4.75266   -4.92218   -4.69792   -4.09783   -3.16991    -1.9884   -0.64782    0.74459    2.07743    3.24408     4.1512    4.72622    4.92315    4.72622     4.1512    3.24408    2.07743    0.74459   -0.64782    -1.9884   -3.16991   -4.09783   -4.69792   -4.92218   -4.75266   -4.20293   -3.31697   -2.16565   -0.84108    0.55078    1.89858    3.09449    4.04284    4.66776    4.91927    4.77723\n",
      "   4.77723    4.25301    3.38855    4.25301    4.77723    4.91927    4.66776    4.04284    3.09449    1.89858    0.55078   -0.84108   -2.16565   -3.31697   -4.20293   -4.75266   -4.92218   -4.69792   -4.09783   -3.16991    -1.9884   -0.64782    0.74459    2.07743    3.24408     4.1512    4.72622    4.92315    4.72622     4.1512    3.24408    2.07743    0.74459   -0.64782    -1.9884   -3.16991   -4.09783   -4.69792   -4.92218   -4.75266   -4.20293   -3.31697   -2.16565   -0.84108    0.55078    1.89858    3.09449    4.04284    4.66776    4.91927\n",
      "   4.91927    4.77723    4.25301    3.38855    4.25301    4.77723    4.91927    4.66776    4.04284    3.09449    1.89858    0.55078   -0.84108   -2.16565   -3.31697   -4.20293   -4.75266   -4.92218   -4.69792   -4.09783   -3.16991    -1.9884   -0.64782    0.74459    2.07743    3.24408     4.1512    4.72622    4.92315    4.72622     4.1512    3.24408    2.07743    0.74459   -0.64782    -1.9884   -3.16991   -4.09783   -4.69792   -4.92218   -4.75266   -4.20293   -3.31697   -2.16565   -0.84108    0.55078    1.89858    3.09449    4.04284    4.66776\n",
      "   4.66776    4.91927    4.77723    4.25301    3.38855    4.25301    4.77723    4.91927    4.66776    4.04284    3.09449    1.89858    0.55078   -0.84108   -2.16565   -3.31697   -4.20293   -4.75266   -4.92218   -4.69792   -4.09783   -3.16991    -1.9884   -0.64782    0.74459    2.07743    3.24408     4.1512    4.72622    4.92315    4.72622     4.1512    3.24408    2.07743    0.74459   -0.64782    -1.9884   -3.16991   -4.09783   -4.69792   -4.92218   -4.75266   -4.20293   -3.31697   -2.16565   -0.84108    0.55078    1.89858    3.09449    4.04284\n",
      "   4.04284    4.66776    4.91927    4.77723    4.25301    3.38855    4.25301    4.77723    4.91927    4.66776    4.04284    3.09449    1.89858    0.55078   -0.84108   -2.16565   -3.31697   -4.20293   -4.75266   -4.92218   -4.69792   -4.09783   -3.16991    -1.9884   -0.64782    0.74459    2.07743    3.24408     4.1512    4.72622    4.92315    4.72622     4.1512    3.24408    2.07743    0.74459   -0.64782    -1.9884   -3.16991   -4.09783   -4.69792   -4.92218   -4.75266   -4.20293   -3.31697   -2.16565   -0.84108    0.55078    1.89858    3.09449\n",
      "   3.09449    4.04284    4.66776    4.91927    4.77723    4.25301    3.38855    4.25301    4.77723    4.91927    4.66776    4.04284    3.09449    1.89858    0.55078   -0.84108   -2.16565   -3.31697   -4.20293   -4.75266   -4.92218   -4.69792   -4.09783   -3.16991    -1.9884   -0.64782    0.74459    2.07743    3.24408     4.1512    4.72622    4.92315    4.72622     4.1512    3.24408    2.07743    0.74459   -0.64782    -1.9884   -3.16991   -4.09783   -4.69792   -4.92218   -4.75266   -4.20293   -3.31697   -2.16565   -0.84108    0.55078    1.89858\n",
      "   1.89858    3.09449    4.04284    4.66776    4.91927    4.77723    4.25301    3.38855    4.25301    4.77723    4.91927    4.66776    4.04284    3.09449    1.89858    0.55078   -0.84108   -2.16565   -3.31697   -4.20293   -4.75266   -4.92218   -4.69792   -4.09783   -3.16991    -1.9884   -0.64782    0.74459    2.07743    3.24408     4.1512    4.72622    4.92315    4.72622     4.1512    3.24408    2.07743    0.74459   -0.64782    -1.9884   -3.16991   -4.09783   -4.69792   -4.92218   -4.75266   -4.20293   -3.31697   -2.16565   -0.84108    0.55078\n",
      "   0.55078    1.89858    3.09449    4.04284    4.66776    4.91927    4.77723    4.25301    3.38855    4.25301    4.77723    4.91927    4.66776    4.04284    3.09449    1.89858    0.55078   -0.84108   -2.16565   -3.31697   -4.20293   -4.75266   -4.92218   -4.69792   -4.09783   -3.16991    -1.9884   -0.64782    0.74459    2.07743    3.24408     4.1512    4.72622    4.92315    4.72622     4.1512    3.24408    2.07743    0.74459   -0.64782    -1.9884   -3.16991   -4.09783   -4.69792   -4.92218   -4.75266   -4.20293   -3.31697   -2.16565   -0.84108\n",
      "  -0.84108    0.55078    1.89858    3.09449    4.04284    4.66776    4.91927    4.77723    4.25301    3.38855    4.25301    4.77723    4.91927    4.66776    4.04284    3.09449    1.89858    0.55078   -0.84108   -2.16565   -3.31697   -4.20293   -4.75266   -4.92218   -4.69792   -4.09783   -3.16991    -1.9884   -0.64782    0.74459    2.07743    3.24408     4.1512    4.72622    4.92315    4.72622     4.1512    3.24408    2.07743    0.74459   -0.64782    -1.9884   -3.16991   -4.09783   -4.69792   -4.92218   -4.75266   -4.20293   -3.31697   -2.16565\n",
      "  -2.16565   -0.84108    0.55078    1.89858    3.09449    4.04284    4.66776    4.91927    4.77723    4.25301    3.38855    4.25301    4.77723    4.91927    4.66776    4.04284    3.09449    1.89858    0.55078   -0.84108   -2.16565   -3.31697   -4.20293   -4.75266   -4.92218   -4.69792   -4.09783   -3.16991    -1.9884   -0.64782    0.74459    2.07743    3.24408     4.1512    4.72622    4.92315    4.72622     4.1512    3.24408    2.07743    0.74459   -0.64782    -1.9884   -3.16991   -4.09783   -4.69792   -4.92218   -4.75266   -4.20293   -3.31697\n",
      "  -3.31697   -2.16565   -0.84108    0.55078    1.89858    3.09449    4.04284    4.66776    4.91927    4.77723    4.25301    3.38855    4.25301    4.77723    4.91927    4.66776    4.04284    3.09449    1.89858    0.55078   -0.84108   -2.16565   -3.31697   -4.20293   -4.75266   -4.92218   -4.69792   -4.09783   -3.16991    -1.9884   -0.64782    0.74459    2.07743    3.24408     4.1512    4.72622    4.92315    4.72622     4.1512    3.24408    2.07743    0.74459   -0.64782    -1.9884   -3.16991   -4.09783   -4.69792   -4.92218   -4.75266   -4.20293\n",
      "  -4.20293   -3.31697   -2.16565   -0.84108    0.55078    1.89858    3.09449    4.04284    4.66776    4.91927    4.77723    4.25301    3.38855    4.25301    4.77723    4.91927    4.66776    4.04284    3.09449    1.89858    0.55078   -0.84108   -2.16565   -3.31697   -4.20293   -4.75266   -4.92218   -4.69792   -4.09783   -3.16991    -1.9884   -0.64782    0.74459    2.07743    3.24408     4.1512    4.72622    4.92315    4.72622     4.1512    3.24408    2.07743    0.74459   -0.64782    -1.9884   -3.16991   -4.09783   -4.69792   -4.92218   -4.75266\n",
      "  -4.75266   -4.20293   -3.31697   -2.16565   -0.84108    0.55078    1.89858    3.09449    4.04284    4.66776    4.91927    4.77723    4.25301    3.38855    4.25301    4.77723    4.91927    4.66776    4.04284    3.09449    1.89858    0.55078   -0.84108   -2.16565   -3.31697   -4.20293   -4.75266   -4.92218   -4.69792   -4.09783   -3.16991    -1.9884   -0.64782    0.74459    2.07743    3.24408     4.1512    4.72622    4.92315    4.72622     4.1512    3.24408    2.07743    0.74459   -0.64782    -1.9884   -3.16991   -4.09783   -4.69792   -4.92218\n",
      "  -4.92218   -4.75266   -4.20293   -3.31697   -2.16565   -0.84108    0.55078    1.89858    3.09449    4.04284    4.66776    4.91927    4.77723    4.25301    3.38855    4.25301    4.77723    4.91927    4.66776    4.04284    3.09449    1.89858    0.55078   -0.84108   -2.16565   -3.31697   -4.20293   -4.75266   -4.92218   -4.69792   -4.09783   -3.16991    -1.9884   -0.64782    0.74459    2.07743    3.24408     4.1512    4.72622    4.92315    4.72622     4.1512    3.24408    2.07743    0.74459   -0.64782    -1.9884   -3.16991   -4.09783   -4.69792\n",
      "  -4.69792   -4.92218   -4.75266   -4.20293   -3.31697   -2.16565   -0.84108    0.55078    1.89858    3.09449    4.04284    4.66776    4.91927    4.77723    4.25301    3.38855    4.25301    4.77723    4.91927    4.66776    4.04284    3.09449    1.89858    0.55078   -0.84108   -2.16565   -3.31697   -4.20293   -4.75266   -4.92218   -4.69792   -4.09783   -3.16991    -1.9884   -0.64782    0.74459    2.07743    3.24408     4.1512    4.72622    4.92315    4.72622     4.1512    3.24408    2.07743    0.74459   -0.64782    -1.9884   -3.16991   -4.09783\n",
      "  -4.09783   -4.69792   -4.92218   -4.75266   -4.20293   -3.31697   -2.16565   -0.84108    0.55078    1.89858    3.09449    4.04284    4.66776    4.91927    4.77723    4.25301    3.38855    4.25301    4.77723    4.91927    4.66776    4.04284    3.09449    1.89858    0.55078   -0.84108   -2.16565   -3.31697   -4.20293   -4.75266   -4.92218   -4.69792   -4.09783   -3.16991    -1.9884   -0.64782    0.74459    2.07743    3.24408     4.1512    4.72622    4.92315    4.72622     4.1512    3.24408    2.07743    0.74459   -0.64782    -1.9884   -3.16991\n",
      "  -3.16991   -4.09783   -4.69792   -4.92218   -4.75266   -4.20293   -3.31697   -2.16565   -0.84108    0.55078    1.89858    3.09449    4.04284    4.66776    4.91927    4.77723    4.25301    3.38855    4.25301    4.77723    4.91927    4.66776    4.04284    3.09449    1.89858    0.55078   -0.84108   -2.16565   -3.31697   -4.20293   -4.75266   -4.92218   -4.69792   -4.09783   -3.16991    -1.9884   -0.64782    0.74459    2.07743    3.24408     4.1512    4.72622    4.92315    4.72622     4.1512    3.24408    2.07743    0.74459   -0.64782    -1.9884\n",
      "   -1.9884   -3.16991   -4.09783   -4.69792   -4.92218   -4.75266   -4.20293   -3.31697   -2.16565   -0.84108    0.55078    1.89858    3.09449    4.04284    4.66776    4.91927    4.77723    4.25301    3.38855    4.25301    4.77723    4.91927    4.66776    4.04284    3.09449    1.89858    0.55078   -0.84108   -2.16565   -3.31697   -4.20293   -4.75266   -4.92218   -4.69792   -4.09783   -3.16991    -1.9884   -0.64782    0.74459    2.07743    3.24408     4.1512    4.72622    4.92315    4.72622     4.1512    3.24408    2.07743    0.74459   -0.64782\n",
      "  -0.64782    -1.9884   -3.16991   -4.09783   -4.69792   -4.92218   -4.75266   -4.20293   -3.31697   -2.16565   -0.84108    0.55078    1.89858    3.09449    4.04284    4.66776    4.91927    4.77723    4.25301    3.38855    4.25301    4.77723    4.91927    4.66776    4.04284    3.09449    1.89858    0.55078   -0.84108   -2.16565   -3.31697   -4.20293   -4.75266   -4.92218   -4.69792   -4.09783   -3.16991    -1.9884   -0.64782    0.74459    2.07743    3.24408     4.1512    4.72622    4.92315    4.72622     4.1512    3.24408    2.07743    0.74459\n",
      "   0.74459   -0.64782    -1.9884   -3.16991   -4.09783   -4.69792   -4.92218   -4.75266   -4.20293   -3.31697   -2.16565   -0.84108    0.55078    1.89858    3.09449    4.04284    4.66776    4.91927    4.77723    4.25301    3.38855    4.25301    4.77723    4.91927    4.66776    4.04284    3.09449    1.89858    0.55078   -0.84108   -2.16565   -3.31697   -4.20293   -4.75266   -4.92218   -4.69792   -4.09783   -3.16991    -1.9884   -0.64782    0.74459    2.07743    3.24408     4.1512    4.72622    4.92315    4.72622     4.1512    3.24408    2.07743\n",
      "   2.07743    0.74459   -0.64782    -1.9884   -3.16991   -4.09783   -4.69792   -4.92218   -4.75266   -4.20293   -3.31697   -2.16565   -0.84108    0.55078    1.89858    3.09449    4.04284    4.66776    4.91927    4.77723    4.25301    3.38855    4.25301    4.77723    4.91927    4.66776    4.04284    3.09449    1.89858    0.55078   -0.84108   -2.16565   -3.31697   -4.20293   -4.75266   -4.92218   -4.69792   -4.09783   -3.16991    -1.9884   -0.64782    0.74459    2.07743    3.24408     4.1512    4.72622    4.92315    4.72622     4.1512    3.24408\n",
      "   3.24408    2.07743    0.74459   -0.64782    -1.9884   -3.16991   -4.09783   -4.69792   -4.92218   -4.75266   -4.20293   -3.31697   -2.16565   -0.84108    0.55078    1.89858    3.09449    4.04284    4.66776    4.91927    4.77723    4.25301    3.38855    4.25301    4.77723    4.91927    4.66776    4.04284    3.09449    1.89858    0.55078   -0.84108   -2.16565   -3.31697   -4.20293   -4.75266   -4.92218   -4.69792   -4.09783   -3.16991    -1.9884   -0.64782    0.74459    2.07743    3.24408     4.1512    4.72622    4.92315    4.72622     4.1512\n",
      "    4.1512    3.24408    2.07743    0.74459   -0.64782    -1.9884   -3.16991   -4.09783   -4.69792   -4.92218   -4.75266   -4.20293   -3.31697   -2.16565   -0.84108    0.55078    1.89858    3.09449    4.04284    4.66776    4.91927    4.77723    4.25301    3.38855    4.25301    4.77723    4.91927    4.66776    4.04284    3.09449    1.89858    0.55078   -0.84108   -2.16565   -3.31697   -4.20293   -4.75266   -4.92218   -4.69792   -4.09783   -3.16991    -1.9884   -0.64782    0.74459    2.07743    3.24408     4.1512    4.72622    4.92315    4.72622\n",
      "   4.72622     4.1512    3.24408    2.07743    0.74459   -0.64782    -1.9884   -3.16991   -4.09783   -4.69792   -4.92218   -4.75266   -4.20293   -3.31697   -2.16565   -0.84108    0.55078    1.89858    3.09449    4.04284    4.66776    4.91927    4.77723    4.25301    3.38855    4.25301    4.77723    4.91927    4.66776    4.04284    3.09449    1.89858    0.55078   -0.84108   -2.16565   -3.31697   -4.20293   -4.75266   -4.92218   -4.69792   -4.09783   -3.16991    -1.9884   -0.64782    0.74459    2.07743    3.24408     4.1512    4.72622    4.92315\n",
      "   4.92315    4.72622     4.1512    3.24408    2.07743    0.74459   -0.64782    -1.9884   -3.16991   -4.09783   -4.69792   -4.92218   -4.75266   -4.20293   -3.31697   -2.16565   -0.84108    0.55078    1.89858    3.09449    4.04284    4.66776    4.91927    4.77723    4.25301    3.38855    4.25301    4.77723    4.91927    4.66776    4.04284    3.09449    1.89858    0.55078   -0.84108   -2.16565   -3.31697   -4.20293   -4.75266   -4.92218   -4.69792   -4.09783   -3.16991    -1.9884   -0.64782    0.74459    2.07743    3.24408     4.1512    4.72622\n",
      "   4.72622    4.92315    4.72622     4.1512    3.24408    2.07743    0.74459   -0.64782    -1.9884   -3.16991   -4.09783   -4.69792   -4.92218   -4.75266   -4.20293   -3.31697   -2.16565   -0.84108    0.55078    1.89858    3.09449    4.04284    4.66776    4.91927    4.77723    4.25301    3.38855    4.25301    4.77723    4.91927    4.66776    4.04284    3.09449    1.89858    0.55078   -0.84108   -2.16565   -3.31697   -4.20293   -4.75266   -4.92218   -4.69792   -4.09783   -3.16991    -1.9884   -0.64782    0.74459    2.07743    3.24408     4.1512\n",
      "    4.1512    4.72622    4.92315    4.72622     4.1512    3.24408    2.07743    0.74459   -0.64782    -1.9884   -3.16991   -4.09783   -4.69792   -4.92218   -4.75266   -4.20293   -3.31697   -2.16565   -0.84108    0.55078    1.89858    3.09449    4.04284    4.66776    4.91927    4.77723    4.25301    3.38855    4.25301    4.77723    4.91927    4.66776    4.04284    3.09449    1.89858    0.55078   -0.84108   -2.16565   -3.31697   -4.20293   -4.75266   -4.92218   -4.69792   -4.09783   -3.16991    -1.9884   -0.64782    0.74459    2.07743    3.24408\n",
      "   3.24408     4.1512    4.72622    4.92315    4.72622     4.1512    3.24408    2.07743    0.74459   -0.64782    -1.9884   -3.16991   -4.09783   -4.69792   -4.92218   -4.75266   -4.20293   -3.31697   -2.16565   -0.84108    0.55078    1.89858    3.09449    4.04284    4.66776    4.91927    4.77723    4.25301    3.38855    4.25301    4.77723    4.91927    4.66776    4.04284    3.09449    1.89858    0.55078   -0.84108   -2.16565   -3.31697   -4.20293   -4.75266   -4.92218   -4.69792   -4.09783   -3.16991    -1.9884   -0.64782    0.74459    2.07743\n",
      "   2.07743    3.24408     4.1512    4.72622    4.92315    4.72622     4.1512    3.24408    2.07743    0.74459   -0.64782    -1.9884   -3.16991   -4.09783   -4.69792   -4.92218   -4.75266   -4.20293   -3.31697   -2.16565   -0.84108    0.55078    1.89858    3.09449    4.04284    4.66776    4.91927    4.77723    4.25301    3.38855    4.25301    4.77723    4.91927    4.66776    4.04284    3.09449    1.89858    0.55078   -0.84108   -2.16565   -3.31697   -4.20293   -4.75266   -4.92218   -4.69792   -4.09783   -3.16991    -1.9884   -0.64782    0.74459\n",
      "   0.74459    2.07743    3.24408     4.1512    4.72622    4.92315    4.72622     4.1512    3.24408    2.07743    0.74459   -0.64782    -1.9884   -3.16991   -4.09783   -4.69792   -4.92218   -4.75266   -4.20293   -3.31697   -2.16565   -0.84108    0.55078    1.89858    3.09449    4.04284    4.66776    4.91927    4.77723    4.25301    3.38855    4.25301    4.77723    4.91927    4.66776    4.04284    3.09449    1.89858    0.55078   -0.84108   -2.16565   -3.31697   -4.20293   -4.75266   -4.92218   -4.69792   -4.09783   -3.16991    -1.9884   -0.64782\n",
      "  -0.64782    0.74459    2.07743    3.24408     4.1512    4.72622    4.92315    4.72622     4.1512    3.24408    2.07743    0.74459   -0.64782    -1.9884   -3.16991   -4.09783   -4.69792   -4.92218   -4.75266   -4.20293   -3.31697   -2.16565   -0.84108    0.55078    1.89858    3.09449    4.04284    4.66776    4.91927    4.77723    4.25301    3.38855    4.25301    4.77723    4.91927    4.66776    4.04284    3.09449    1.89858    0.55078   -0.84108   -2.16565   -3.31697   -4.20293   -4.75266   -4.92218   -4.69792   -4.09783   -3.16991    -1.9884\n",
      "   -1.9884   -0.64782    0.74459    2.07743    3.24408     4.1512    4.72622    4.92315    4.72622     4.1512    3.24408    2.07743    0.74459   -0.64782    -1.9884   -3.16991   -4.09783   -4.69792   -4.92218   -4.75266   -4.20293   -3.31697   -2.16565   -0.84108    0.55078    1.89858    3.09449    4.04284    4.66776    4.91927    4.77723    4.25301    3.38855    4.25301    4.77723    4.91927    4.66776    4.04284    3.09449    1.89858    0.55078   -0.84108   -2.16565   -3.31697   -4.20293   -4.75266   -4.92218   -4.69792   -4.09783   -3.16991\n",
      "  -3.16991    -1.9884   -0.64782    0.74459    2.07743    3.24408     4.1512    4.72622    4.92315    4.72622     4.1512    3.24408    2.07743    0.74459   -0.64782    -1.9884   -3.16991   -4.09783   -4.69792   -4.92218   -4.75266   -4.20293   -3.31697   -2.16565   -0.84108    0.55078    1.89858    3.09449    4.04284    4.66776    4.91927    4.77723    4.25301    3.38855    4.25301    4.77723    4.91927    4.66776    4.04284    3.09449    1.89858    0.55078   -0.84108   -2.16565   -3.31697   -4.20293   -4.75266   -4.92218   -4.69792   -4.09783\n",
      "  -4.09783   -3.16991    -1.9884   -0.64782    0.74459    2.07743    3.24408     4.1512    4.72622    4.92315    4.72622     4.1512    3.24408    2.07743    0.74459   -0.64782    -1.9884   -3.16991   -4.09783   -4.69792   -4.92218   -4.75266   -4.20293   -3.31697   -2.16565   -0.84108    0.55078    1.89858    3.09449    4.04284    4.66776    4.91927    4.77723    4.25301    3.38855    4.25301    4.77723    4.91927    4.66776    4.04284    3.09449    1.89858    0.55078   -0.84108   -2.16565   -3.31697   -4.20293   -4.75266   -4.92218   -4.69792\n",
      "  -4.69792   -4.09783   -3.16991    -1.9884   -0.64782    0.74459    2.07743    3.24408     4.1512    4.72622    4.92315    4.72622     4.1512    3.24408    2.07743    0.74459   -0.64782    -1.9884   -3.16991   -4.09783   -4.69792   -4.92218   -4.75266   -4.20293   -3.31697   -2.16565   -0.84108    0.55078    1.89858    3.09449    4.04284    4.66776    4.91927    4.77723    4.25301    3.38855    4.25301    4.77723    4.91927    4.66776    4.04284    3.09449    1.89858    0.55078   -0.84108   -2.16565   -3.31697   -4.20293   -4.75266   -4.92218\n",
      "  -4.92218   -4.69792   -4.09783   -3.16991    -1.9884   -0.64782    0.74459    2.07743    3.24408     4.1512    4.72622    4.92315    4.72622     4.1512    3.24408    2.07743    0.74459   -0.64782    -1.9884   -3.16991   -4.09783   -4.69792   -4.92218   -4.75266   -4.20293   -3.31697   -2.16565   -0.84108    0.55078    1.89858    3.09449    4.04284    4.66776    4.91927    4.77723    4.25301    3.38855    4.25301    4.77723    4.91927    4.66776    4.04284    3.09449    1.89858    0.55078   -0.84108   -2.16565   -3.31697   -4.20293   -4.75266\n",
      "  -4.75266   -4.92218   -4.69792   -4.09783   -3.16991    -1.9884   -0.64782    0.74459    2.07743    3.24408     4.1512    4.72622    4.92315    4.72622     4.1512    3.24408    2.07743    0.74459   -0.64782    -1.9884   -3.16991   -4.09783   -4.69792   -4.92218   -4.75266   -4.20293   -3.31697   -2.16565   -0.84108    0.55078    1.89858    3.09449    4.04284    4.66776    4.91927    4.77723    4.25301    3.38855    4.25301    4.77723    4.91927    4.66776    4.04284    3.09449    1.89858    0.55078   -0.84108   -2.16565   -3.31697   -4.20293\n",
      "  -4.20293   -4.75266   -4.92218   -4.69792   -4.09783   -3.16991    -1.9884   -0.64782    0.74459    2.07743    3.24408     4.1512    4.72622    4.92315    4.72622     4.1512    3.24408    2.07743    0.74459   -0.64782    -1.9884   -3.16991   -4.09783   -4.69792   -4.92218   -4.75266   -4.20293   -3.31697   -2.16565   -0.84108    0.55078    1.89858    3.09449    4.04284    4.66776    4.91927    4.77723    4.25301    3.38855    4.25301    4.77723    4.91927    4.66776    4.04284    3.09449    1.89858    0.55078   -0.84108   -2.16565   -3.31697\n",
      "  -3.31697   -4.20293   -4.75266   -4.92218   -4.69792   -4.09783   -3.16991    -1.9884   -0.64782    0.74459    2.07743    3.24408     4.1512    4.72622    4.92315    4.72622     4.1512    3.24408    2.07743    0.74459   -0.64782    -1.9884   -3.16991   -4.09783   -4.69792   -4.92218   -4.75266   -4.20293   -3.31697   -2.16565   -0.84108    0.55078    1.89858    3.09449    4.04284    4.66776    4.91927    4.77723    4.25301    3.38855    4.25301    4.77723    4.91927    4.66776    4.04284    3.09449    1.89858    0.55078   -0.84108   -2.16565\n",
      "  -2.16565   -3.31697   -4.20293   -4.75266   -4.92218   -4.69792   -4.09783   -3.16991    -1.9884   -0.64782    0.74459    2.07743    3.24408     4.1512    4.72622    4.92315    4.72622     4.1512    3.24408    2.07743    0.74459   -0.64782    -1.9884   -3.16991   -4.09783   -4.69792   -4.92218   -4.75266   -4.20293   -3.31697   -2.16565   -0.84108    0.55078    1.89858    3.09449    4.04284    4.66776    4.91927    4.77723    4.25301    3.38855    4.25301    4.77723    4.91927    4.66776    4.04284    3.09449    1.89858    0.55078   -0.84108\n",
      "  -0.84108   -2.16565   -3.31697   -4.20293   -4.75266   -4.92218   -4.69792   -4.09783   -3.16991    -1.9884   -0.64782    0.74459    2.07743    3.24408     4.1512    4.72622    4.92315    4.72622     4.1512    3.24408    2.07743    0.74459   -0.64782    -1.9884   -3.16991   -4.09783   -4.69792   -4.92218   -4.75266   -4.20293   -3.31697   -2.16565   -0.84108    0.55078    1.89858    3.09449    4.04284    4.66776    4.91927    4.77723    4.25301    3.38855    4.25301    4.77723    4.91927    4.66776    4.04284    3.09449    1.89858    0.55078\n",
      "   0.55078   -0.84108   -2.16565   -3.31697   -4.20293   -4.75266   -4.92218   -4.69792   -4.09783   -3.16991    -1.9884   -0.64782    0.74459    2.07743    3.24408     4.1512    4.72622    4.92315    4.72622     4.1512    3.24408    2.07743    0.74459   -0.64782    -1.9884   -3.16991   -4.09783   -4.69792   -4.92218   -4.75266   -4.20293   -3.31697   -2.16565   -0.84108    0.55078    1.89858    3.09449    4.04284    4.66776    4.91927    4.77723    4.25301    3.38855    4.25301    4.77723    4.91927    4.66776    4.04284    3.09449    1.89858\n",
      "   1.89858    0.55078   -0.84108   -2.16565   -3.31697   -4.20293   -4.75266   -4.92218   -4.69792   -4.09783   -3.16991    -1.9884   -0.64782    0.74459    2.07743    3.24408     4.1512    4.72622    4.92315    4.72622     4.1512    3.24408    2.07743    0.74459   -0.64782    -1.9884   -3.16991   -4.09783   -4.69792   -4.92218   -4.75266   -4.20293   -3.31697   -2.16565   -0.84108    0.55078    1.89858    3.09449    4.04284    4.66776    4.91927    4.77723    4.25301    3.38855    4.25301    4.77723    4.91927    4.66776    4.04284    3.09449\n",
      "   3.09449    1.89858    0.55078   -0.84108   -2.16565   -3.31697   -4.20293   -4.75266   -4.92218   -4.69792   -4.09783   -3.16991    -1.9884   -0.64782    0.74459    2.07743    3.24408     4.1512    4.72622    4.92315    4.72622     4.1512    3.24408    2.07743    0.74459   -0.64782    -1.9884   -3.16991   -4.09783   -4.69792   -4.92218   -4.75266   -4.20293   -3.31697   -2.16565   -0.84108    0.55078    1.89858    3.09449    4.04284    4.66776    4.91927    4.77723    4.25301    3.38855    4.25301    4.77723    4.91927    4.66776    4.04284\n",
      "   4.04284    3.09449    1.89858    0.55078   -0.84108   -2.16565   -3.31697   -4.20293   -4.75266   -4.92218   -4.69792   -4.09783   -3.16991    -1.9884   -0.64782    0.74459    2.07743    3.24408     4.1512    4.72622    4.92315    4.72622     4.1512    3.24408    2.07743    0.74459   -0.64782    -1.9884   -3.16991   -4.09783   -4.69792   -4.92218   -4.75266   -4.20293   -3.31697   -2.16565   -0.84108    0.55078    1.89858    3.09449    4.04284    4.66776    4.91927    4.77723    4.25301    3.38855    4.25301    4.77723    4.91927    4.66776\n",
      "   4.66776    4.04284    3.09449    1.89858    0.55078   -0.84108   -2.16565   -3.31697   -4.20293   -4.75266   -4.92218   -4.69792   -4.09783   -3.16991    -1.9884   -0.64782    0.74459    2.07743    3.24408     4.1512    4.72622    4.92315    4.72622     4.1512    3.24408    2.07743    0.74459   -0.64782    -1.9884   -3.16991   -4.09783   -4.69792   -4.92218   -4.75266   -4.20293   -3.31697   -2.16565   -0.84108    0.55078    1.89858    3.09449    4.04284    4.66776    4.91927    4.77723    4.25301    3.38855    4.25301    4.77723    4.91927\n",
      "   4.91927    4.66776    4.04284    3.09449    1.89858    0.55078   -0.84108   -2.16565   -3.31697   -4.20293   -4.75266   -4.92218   -4.69792   -4.09783   -3.16991    -1.9884   -0.64782    0.74459    2.07743    3.24408     4.1512    4.72622    4.92315    4.72622     4.1512    3.24408    2.07743    0.74459   -0.64782    -1.9884   -3.16991   -4.09783   -4.69792   -4.92218   -4.75266   -4.20293   -3.31697   -2.16565   -0.84108    0.55078    1.89858    3.09449    4.04284    4.66776    4.91927    4.77723    4.25301    3.38855    4.25301    4.77723\n",
      "   4.77723    4.91927    4.66776    4.04284    3.09449    1.89858    0.55078   -0.84108   -2.16565   -3.31697   -4.20293   -4.75266   -4.92218   -4.69792   -4.09783   -3.16991    -1.9884   -0.64782    0.74459    2.07743    3.24408     4.1512    4.72622    4.92315    4.72622     4.1512    3.24408    2.07743    0.74459   -0.64782    -1.9884   -3.16991   -4.09783   -4.69792   -4.92218   -4.75266   -4.20293   -3.31697   -2.16565   -0.84108    0.55078    1.89858    3.09449    4.04284    4.66776    4.91927    4.77723    4.25301    3.38855    4.25301\n",
      "   4.25301    4.77723    4.91927    4.66776    4.04284    3.09449    1.89858    0.55078   -0.84108   -2.16565   -3.31697   -4.20293   -4.75266   -4.92218   -4.69792   -4.09783   -3.16991    -1.9884   -0.64782    0.74459    2.07743    3.24408     4.1512    4.72622    4.92315    4.72622     4.1512    3.24408    2.07743    0.74459   -0.64782    -1.9884   -3.16991   -4.09783   -4.69792   -4.92218   -4.75266   -4.20293   -3.31697   -2.16565   -0.84108    0.55078    1.89858    3.09449    4.04284    4.66776    4.91927    4.77723    4.25301    3.38855\n",
      "Residue: \n",
      "([82.64882892065043, 82.64882892057157, 82.64882892050787, 82.64882892068049, 82.64882892047873, 82.64882892050471, 82.64882892047918, 82.64882892059268, 82.64882892059015, 82.64882892059208, 82.6488289205907, 82.64882892059249, 82.64882892059163, 82.64882892059224, 82.64882892059286, 82.64882892059194, 82.6488289205913, 82.64882892059312, 82.64882892059087, 82.64882892059146, 82.64882892059119, 82.64882892059173, 82.64882892059182, 82.64882892059167, 82.64882892059134, 82.64882892059134, 82.6488289205916, 82.64882892059256, 82.64882892059208, 82.64882892059052, 82.64882892059248, 82.6488289205914, 82.6488289205918, 82.64882892059236, 82.64882892059238, 82.64882892059174, 82.64882892059306, 82.64882892059245, 82.64882892059198, 82.64882892059319, 82.64882892059279, 82.64882892059113, 82.64882892059309, 82.64882892056458, 82.64882892073119, 82.64882892056337, 82.6488289207487, 82.64882892072777, 82.64882892049822, 82.64882892063827], double)\n"
     ]
    }
   ],
   "source": [
    "# Matrix generating function\n",
    "\n",
    "def matrix_generator(x: Array, m = 0.2):\n",
    "    y = zeros(\"d\", x.length)\n",
    "    for i in range(x.length):\n",
    "        if i == x.length - 1:\n",
    "            y[i] = 0.5 * (x[0] + x[i-1] - 2*x[i]) + m**2*x[i]\n",
    "        else:\n",
    "            y[i] = 0.5 * (x[i+1] + x[i-1] - 2*x[i]) + m**2*x[i]\n",
    "    \n",
    "    return y\n",
    "\n",
    "inv, residue = inverse_conjugate_gradient_no_matrix(\n",
    "    matrix_generator, n=50, tol=1e-7,\n",
    ")\n",
    "# sol = ConjugateGradient(matrix_generator, Array.zeros(\"d\", 50))\n",
    "# sol, vals, res = sol.solve()\n",
    "\n",
    "# Verifies the solution\n",
    "print(f\"Inverse Conjugate Gradient solution: \\n{inv}\")\n",
    "\n",
    "\n",
    "print(f\"Residue: \\n{residue}\")\n",
    "\n"
   ]
  },
  {
   "cell_type": "code",
   "execution_count": null,
   "metadata": {},
   "outputs": [],
   "source": []
  }
 ],
 "metadata": {
  "kernelspec": {
   "display_name": "pegasis",
   "language": "python",
   "name": "python3"
  },
  "language_info": {
   "codemirror_mode": {
    "name": "ipython",
    "version": 3
   },
   "file_extension": ".py",
   "mimetype": "text/x-python",
   "name": "python",
   "nbconvert_exporter": "python",
   "pygments_lexer": "ipython3",
   "version": "3.11.8"
  }
 },
 "nbformat": 4,
 "nbformat_minor": 2
}
