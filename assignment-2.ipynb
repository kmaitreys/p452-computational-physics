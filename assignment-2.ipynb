{
 "cells": [
  {
   "cell_type": "markdown",
   "metadata": {},
   "source": [
    "# Assignment 2"
   ]
  },
  {
   "cell_type": "code",
   "execution_count": 1,
   "metadata": {},
   "outputs": [],
   "source": [
    "from lib.linalg import (\n",
    "    Cholesky,\n",
    "    GaussSeidel,\n",
    "    GaussJordan,\n",
    "    LUSolve,\n",
    "    ConjugateGradient,\n",
    "    conjugate_gradient,\n",
    "    inverse_conjugate_gradient,\n",
    "    inverse_conjugate_gradient_no_matrix,\n",
    ")\n",
    "from lib.datamodels import Matrix, Array"
   ]
  },
  {
   "cell_type": "markdown",
   "metadata": {},
   "source": [
    "### Question 1"
   ]
  },
  {
   "cell_type": "markdown",
   "metadata": {},
   "source": [
    "#### Using Cholesky"
   ]
  },
  {
   "cell_type": "code",
   "execution_count": 2,
   "metadata": {},
   "outputs": [
    {
     "name": "stdout",
     "output_type": "stream",
     "text": [
      "Matrix A: \n",
      "       4.0       -1.0        0.0       -1.0        0.0        0.0\n",
      "      -1.0        4.0       -1.0        0.0       -1.0        0.0\n",
      "       0.0       -1.0        4.0        0.0        0.0       -1.0\n",
      "      -1.0        0.0        0.0        4.0       -1.0        0.0\n",
      "       0.0       -1.0        0.0       -1.0        4.0       -1.0\n",
      "       0.0        0.0       -1.0        0.0       -1.0        4.0\n",
      "Decomposed matrix L: \n",
      "       2.0       -0.5        0.0       -0.5        0.0        0.0\n",
      "      -0.5    1.93649    -0.5164    -0.1291    -0.5164        0.0\n",
      "       0.0    -0.5164    1.93218    -0.0345   -0.13801   -0.51755\n",
      "      -0.5    -0.1291    -0.0345    1.93188   -0.55461   -0.00924\n",
      "       0.0    -0.5164   -0.13801   -0.55461    1.84572   -0.58327\n",
      "       0.0        0.0   -0.51755   -0.00924   -0.58327     1.8417\n",
      "Solution vector b: \n",
      "([1.0, 1.0, 1.0, 1.0, 1.0, 1.0], double)\n"
     ]
    }
   ],
   "source": [
    "A = [\n",
    "    [4, -1, 0, -1, 0, 0],\n",
    "    [-1, 4, -1, 0, -1, 0],\n",
    "    [0, -1, 4, 0, 0, -1],\n",
    "    [-1, 0, 0, 4, -1, 0],\n",
    "    [0, -1, 0, -1, 4, -1],\n",
    "    [0, 0, -1, 0, -1, 4],\n",
    "]\n",
    "b = [2, 1, 2, 2, 1, 2]\n",
    "matrix = Matrix.from_list(A)\n",
    "print(f\"Matrix A: \\n{matrix}\")\n",
    "# Initialize the Cholesky solver\n",
    "sol = Cholesky(matrix, b)\n",
    "sol.decompose()\n",
    "x = sol.solve()\n",
    "print(f\"Decomposed matrix L: \\n{sol.L}\")\n",
    "print(f\"Solution vector b: \\n{x}\")"
   ]
  },
  {
   "cell_type": "markdown",
   "metadata": {},
   "source": [
    "#### Using Gauss-Seidel"
   ]
  },
  {
   "cell_type": "code",
   "execution_count": 3,
   "metadata": {},
   "outputs": [
    {
     "name": "stdout",
     "output_type": "stream",
     "text": [
      "Matrix A: \n",
      "       4.0       -1.0        0.0       -1.0        0.0        0.0\n",
      "      -1.0        4.0       -1.0        0.0       -1.0        0.0\n",
      "       0.0       -1.0        4.0        0.0        0.0       -1.0\n",
      "      -1.0        0.0        0.0        4.0       -1.0        0.0\n",
      "       0.0       -1.0        0.0       -1.0        4.0       -1.0\n",
      "       0.0        0.0       -1.0        0.0       -1.0        4.0\n",
      "Solution vector x: \n",
      "([1.0, 1.0, 1.0, 1.0, 1.0, 1.0], double)\n"
     ]
    }
   ],
   "source": [
    "A = [\n",
    "    [4, -1, 0, -1, 0, 0],\n",
    "    [-1, 4, -1, 0, -1, 0],\n",
    "    [0, -1, 4, 0, 0, -1],\n",
    "    [-1, 0, 0, 4, -1, 0],\n",
    "    [0, -1, 0, -1, 4, -1],\n",
    "    [0, 0, -1, 0, -1, 4],\n",
    "]\n",
    "b = Array(\"d\", [2, 1, 2, 2, 1, 2])\n",
    "matrix = Matrix.from_list(A)\n",
    "print(f\"Matrix A: \\n{matrix}\")\n",
    "\n",
    "# Initialize the Gauss-Seidel solver\n",
    "sol = GaussSeidel(matrix, b, tol=1e-6)\n",
    "x = sol.solve()\n",
    "print(f\"Solution vector x: \\n{x}\")"
   ]
  },
  {
   "cell_type": "markdown",
   "metadata": {},
   "source": [
    "### Question 2"
   ]
  },
  {
   "cell_type": "code",
   "execution_count": 4,
   "metadata": {},
   "outputs": [],
   "source": [
    "A = [\n",
    "    [0, 4, 2, 0, 1],\n",
    "    [4, 0, 4, 10, 1],\n",
    "    [2, 5, 1, 3, 13],\n",
    "    [11, 3, 0, 1, 2],\n",
    "    [3, 2, 7, 1, 0],\n",
    "]\n",
    "b = Array(\"d\", [20, 15, 92, 51, 15])"
   ]
  },
  {
   "cell_type": "markdown",
   "metadata": {},
   "source": [
    "#### Using Gauss-Jordan"
   ]
  },
  {
   "cell_type": "code",
   "execution_count": 5,
   "metadata": {},
   "outputs": [
    {
     "name": "stdout",
     "output_type": "stream",
     "text": [
      "Matrix A: \n",
      "       0.0        4.0        2.0        0.0        1.0\n",
      "       4.0        0.0        4.0       10.0        1.0\n",
      "       2.0        5.0        1.0        3.0       13.0\n",
      "      11.0        3.0        0.0        1.0        2.0\n",
      "       3.0        2.0        7.0        1.0        0.0\n",
      "Solution vector x: \n",
      "([2.6746, 3.71189, -0.05331, -0.07443, 5.25907], double)\n"
     ]
    }
   ],
   "source": [
    "matrix = Matrix.from_list(A)\n",
    "print(f\"Matrix A: \\n{matrix}\")\n",
    "sol = GaussJordan(matrix, b)\n",
    "\n",
    "x = sol.solve()\n",
    "\n",
    "print(f\"Solution vector x: \\n{x}\")"
   ]
  },
  {
   "cell_type": "markdown",
   "metadata": {},
   "source": [
    "#### Using LU-decomposition (Doolitle)"
   ]
  },
  {
   "cell_type": "code",
   "execution_count": 6,
   "metadata": {},
   "outputs": [
    {
     "name": "stdout",
     "output_type": "stream",
     "text": [
      "Matrix A: \n",
      "       0.0        4.0        2.0        0.0        1.0\n",
      "       4.0        0.0        4.0       10.0        1.0\n",
      "       2.0        5.0        1.0        3.0       13.0\n",
      "      11.0        3.0        0.0        1.0        2.0\n",
      "       3.0        2.0        7.0        1.0        0.0\n",
      "Solution vector x: \n",
      "([2.6746, 3.71189, -0.05331, -0.07443, 5.25907], double)\n"
     ]
    }
   ],
   "source": [
    "matrix = Matrix.from_list(A)\n",
    "print(f\"Matrix A: \\n{matrix}\")\n",
    "\n",
    "# Initialize the LU solver\n",
    "sol = LUSolve(matrix, b, method=\"doolittle\")\n",
    "x = sol.solve()\n",
    "\n",
    "print(f\"Solution vector x: \\n{x}\")"
   ]
  },
  {
   "cell_type": "markdown",
   "metadata": {},
   "source": [
    "### Question 3"
   ]
  },
  {
   "cell_type": "code",
   "execution_count": 7,
   "metadata": {},
   "outputs": [
    {
     "name": "stdout",
     "output_type": "stream",
     "text": [
      "Solution vector x: \n",
      "([-0.33334, 0.33333, 1.0, -0.66667, -0.0, 0.66667], double)\n"
     ]
    }
   ],
   "source": [
    "A = [\n",
    "    [2, -3, 0, 0, 0, 0],\n",
    "    [-1, 4, -1, 0, -1, 0],\n",
    "    [0, -1, 4, 0, 0, -1],\n",
    "    [0, 0, 0, 2, -3, 0],\n",
    "    [0, -1, 0, -1, 4, -1],\n",
    "    [0, 0, -1, 0, -1, 4],\n",
    "]\n",
    "\n",
    "A = Matrix.from_list(A)\n",
    "\n",
    "b = Array(\"d\", [-5/3, 2/3, 3, -4/3, -1/3, 5/3])\n",
    "\n",
    "sol = ConjugateGradient(A, b)\n",
    "\n",
    "sol, _ = sol.solve()\n",
    "\n",
    "print(f\"Solution vector x: \\n{round(sol.x0, 5)}\")"
   ]
  },
  {
   "cell_type": "code",
   "execution_count": 8,
   "metadata": {},
   "outputs": [],
   "source": [
    "# A = [\n",
    "#     [2, -3, 0, 0, 0, 0],\n",
    "#     [-1, 4, -1, 0, -1, 0],\n",
    "#     [0, -1, 4, 0, 0, -1],\n",
    "#     [0, 0, 0, 2, -3, 0],\n",
    "#     [0, -1, 0, -1, 4, -1],\n",
    "#     [0, 0, -1, 0, -1, 4],\n",
    "# ]\n",
    "\n",
    "# A = Matrix.from_list(A)\n",
    "\n",
    "# b = Array(\"d\", [-5/3, 2/3, 3, -4/3, -1/3, 5/3])\n",
    "\n",
    "# x, res = conjugate_gradient(A, b)\n",
    "\n",
    "# print(f\"Conjugate Gradient solution: \\n{round(x, 10)}\")\n",
    "\n",
    "# # Verifies the solution\n",
    "# assert round(A * x, 2) == round(b, 2)"
   ]
  },
  {
   "cell_type": "code",
   "execution_count": 9,
   "metadata": {},
   "outputs": [
    {
     "name": "stdout",
     "output_type": "stream",
     "text": [
      "Inverse Conjugate Gradient solution: \n",
      "   0.93507    0.87013    0.25974     0.2078    0.41559    0.16883\n",
      "   0.29004    0.58009    0.17316    0.13853    0.27706    0.11255\n",
      "   0.08658    0.17316    0.32035    0.05627    0.11255    0.10822\n",
      "    0.2078    0.41559    0.16883    0.93507    0.87013    0.25974\n",
      "   0.13853    0.27706    0.11255    0.29004    0.58009    0.17316\n",
      "   0.05627    0.11255    0.10822    0.08658    0.17316    0.32035\n",
      "Solution: \n",
      "       1.0       -0.0        0.0        0.0        0.0        0.0\n",
      "      -0.0        1.0       -0.0        0.0        0.0       -0.0\n",
      "       0.0        0.0        1.0       -0.0       -0.0       -0.0\n",
      "       0.0        0.0        0.0        1.0       -0.0        0.0\n",
      "       0.0        0.0       -0.0       -0.0        1.0        0.0\n",
      "      -0.0       -0.0       -0.0        0.0        0.0        1.0\n",
      "Identity: \n",
      "       1.0        0.0        0.0        0.0        0.0        0.0\n",
      "       0.0        1.0        0.0        0.0        0.0        0.0\n",
      "       0.0        0.0        1.0        0.0        0.0        0.0\n",
      "       0.0        0.0        0.0        1.0        0.0        0.0\n",
      "       0.0        0.0        0.0        0.0        1.0        0.0\n",
      "       0.0        0.0        0.0        0.0        0.0        1.0\n"
     ]
    }
   ],
   "source": [
    "A_inv = inverse_conjugate_gradient(A)\n",
    "\n",
    "print(f\"Inverse Conjugate Gradient solution: \\n{A_inv}\")\n",
    "\n",
    "# Verifies the solution\n",
    "print(f\"Solution: \\n{round(A * A_inv, 2)}\")\n",
    "\n",
    "print(f\"Identity: \\n{Matrix.identity(6)}\")\n",
    "\n",
    "\n",
    "# Verifies the solution\n",
    "tol = 1e-4\n",
    "for i in range(6):\n",
    "    for j in range(6):\n",
    "        if i == j:\n",
    "            try:\n",
    "                assert abs(A * A_inv - Matrix.identity(6))[i][j] < tol\n",
    "            except AssertionError:\n",
    "                print(f\"AssertionError: {abs(A * A_inv - Matrix.identity(6))[i][j]}\")\n",
    "        else:\n",
    "            try:\n",
    "                assert abs(A * A_inv - Matrix.identity(6))[i][j] < tol\n",
    "            except AssertionError:\n",
    "                print(f\"AssertionError: {abs(A * A_inv - Matrix.identity(6))[i][j]}\")"
   ]
  },
  {
   "cell_type": "markdown",
   "metadata": {},
   "source": [
    "### Question 4"
   ]
  },
  {
   "cell_type": "code",
   "execution_count": 10,
   "metadata": {},
   "outputs": [
    {
     "ename": "AttributeError",
     "evalue": "'NoneType' object has no attribute 'length'",
     "output_type": "error",
     "traceback": [
      "\u001b[0;31m---------------------------------------------------------------------------\u001b[0m",
      "\u001b[0;31mAttributeError\u001b[0m                            Traceback (most recent call last)",
      "Cell \u001b[0;32mIn[10], line 17\u001b[0m\n\u001b[1;32m     13\u001b[0m \u001b[38;5;66;03m# inv, residue = inverse_conjugate_gradient_no_matrix(\u001b[39;00m\n\u001b[1;32m     14\u001b[0m \u001b[38;5;66;03m#     matrix_generator, n=50, tol=1e-7,\u001b[39;00m\n\u001b[1;32m     15\u001b[0m \u001b[38;5;66;03m# )\u001b[39;00m\n\u001b[1;32m     16\u001b[0m sol \u001b[38;5;241m=\u001b[39m ConjugateGradient(matrix_generator, Array\u001b[38;5;241m.\u001b[39mzeros(\u001b[38;5;124m\"\u001b[39m\u001b[38;5;124md\u001b[39m\u001b[38;5;124m\"\u001b[39m, \u001b[38;5;241m50\u001b[39m))\n\u001b[0;32m---> 17\u001b[0m sol, vals, res \u001b[38;5;241m=\u001b[39m \u001b[43msol\u001b[49m\u001b[38;5;241;43m.\u001b[39;49m\u001b[43msolve\u001b[49m\u001b[43m(\u001b[49m\u001b[43m)\u001b[49m\n\u001b[1;32m     19\u001b[0m \u001b[38;5;66;03m# # Verifies the solution\u001b[39;00m\n\u001b[1;32m     20\u001b[0m \u001b[38;5;66;03m# print(f\"Inverse Conjugate Gradient solution: \\n{inv}\")\u001b[39;00m\n\u001b[1;32m     21\u001b[0m \n\u001b[1;32m     22\u001b[0m \n\u001b[1;32m     23\u001b[0m \u001b[38;5;66;03m# print(f\"Residue: \\n{residue}\")\u001b[39;00m\n",
      "File \u001b[0;32m~/Documents/p452-computational-physics/lib/linalg.py:302\u001b[0m, in \u001b[0;36mConjugateGradient.solve\u001b[0;34m(self, plot)\u001b[0m\n\u001b[1;32m    300\u001b[0m e \u001b[38;5;241m=\u001b[39m Array\u001b[38;5;241m.\u001b[39mzeros(\u001b[38;5;124m\"\u001b[39m\u001b[38;5;124md\u001b[39m\u001b[38;5;124m\"\u001b[39m, \u001b[38;5;28mself\u001b[39m\u001b[38;5;241m.\u001b[39mb\u001b[38;5;241m.\u001b[39mlength)\n\u001b[1;32m    301\u001b[0m e[i] \u001b[38;5;241m=\u001b[39m \u001b[38;5;241m1\u001b[39m\n\u001b[0;32m--> 302\u001b[0m \u001b[38;5;28;43mself\u001b[39;49m\u001b[38;5;241;43m.\u001b[39;49m\u001b[43m_get_gradients_and_residue\u001b[49m\u001b[43m(\u001b[49m\u001b[43m)\u001b[49m\n\u001b[1;32m    303\u001b[0m vals\u001b[38;5;241m.\u001b[39mappend(\u001b[38;5;28mself\u001b[39m\u001b[38;5;241m.\u001b[39mx0)\n\u001b[1;32m    304\u001b[0m res\u001b[38;5;241m.\u001b[39mappend(\u001b[38;5;28mself\u001b[39m\u001b[38;5;241m.\u001b[39mresidue)\n",
      "File \u001b[0;32m~/Documents/p452-computational-physics/lib/linalg.py:264\u001b[0m, in \u001b[0;36mConjugateGradient._get_gradients_and_residue\u001b[0;34m(self)\u001b[0m\n\u001b[1;32m    261\u001b[0m     \u001b[38;5;28;01mreturn\u001b[39;00m \u001b[38;5;28mself\u001b[39m\n\u001b[1;32m    263\u001b[0m \u001b[38;5;28;01melif\u001b[39;00m \u001b[38;5;28mcallable\u001b[39m(\u001b[38;5;28mself\u001b[39m\u001b[38;5;241m.\u001b[39mmatrix):\n\u001b[0;32m--> 264\u001b[0m     r \u001b[38;5;241m=\u001b[39m \u001b[38;5;28mself\u001b[39m\u001b[38;5;241m.\u001b[39mb \u001b[38;5;241m-\u001b[39m \u001b[38;5;28;43mself\u001b[39;49m\u001b[38;5;241;43m.\u001b[39;49m\u001b[43mmatrix\u001b[49m\u001b[43m(\u001b[49m\u001b[38;5;28;43mself\u001b[39;49m\u001b[38;5;241;43m.\u001b[39;49m\u001b[43mx0\u001b[49m\u001b[43m)\u001b[49m\n\u001b[1;32m    265\u001b[0m     d \u001b[38;5;241m=\u001b[39m r\n\u001b[1;32m    266\u001b[0m     \u001b[38;5;28mself\u001b[39m\u001b[38;5;241m.\u001b[39mresidue \u001b[38;5;241m=\u001b[39m []\n",
      "Cell \u001b[0;32mIn[10], line 4\u001b[0m, in \u001b[0;36mmatrix_generator\u001b[0;34m(x, m)\u001b[0m\n\u001b[1;32m      3\u001b[0m \u001b[38;5;28;01mdef\u001b[39;00m \u001b[38;5;21mmatrix_generator\u001b[39m(x: Array, m \u001b[38;5;241m=\u001b[39m \u001b[38;5;241m0.2\u001b[39m):\n\u001b[0;32m----> 4\u001b[0m     y \u001b[38;5;241m=\u001b[39m Array\u001b[38;5;241m.\u001b[39mzeros(\u001b[38;5;124m\"\u001b[39m\u001b[38;5;124md\u001b[39m\u001b[38;5;124m\"\u001b[39m, \u001b[43mx\u001b[49m\u001b[38;5;241;43m.\u001b[39;49m\u001b[43mlength\u001b[49m)\n\u001b[1;32m      5\u001b[0m     \u001b[38;5;28;01mfor\u001b[39;00m i \u001b[38;5;129;01min\u001b[39;00m \u001b[38;5;28mrange\u001b[39m(x\u001b[38;5;241m.\u001b[39mlength):\n\u001b[1;32m      6\u001b[0m         \u001b[38;5;28;01mif\u001b[39;00m i \u001b[38;5;241m==\u001b[39m x\u001b[38;5;241m.\u001b[39mlength \u001b[38;5;241m-\u001b[39m \u001b[38;5;241m1\u001b[39m:\n",
      "\u001b[0;31mAttributeError\u001b[0m: 'NoneType' object has no attribute 'length'"
     ]
    }
   ],
   "source": [
    "# Matrix generating function\n",
    "\n",
    "def matrix_generator(x: Array, m = 0.2):\n",
    "    y = Array.zeros(\"d\", x.length)\n",
    "    for i in range(x.length):\n",
    "        if i == x.length - 1:\n",
    "            y[i] = 0.5 * (x[0] + x[i-1] - 2*x[i]) + m**2*x[i]\n",
    "        else:\n",
    "            y[i] = 0.5 * (x[i+1] + x[i-1] - 2*x[i]) + m**2*x[i]\n",
    "    \n",
    "    return y\n",
    "\n",
    "inv, residue = inverse_conjugate_gradient_no_matrix(\n",
    "    matrix_generator, n=50, tol=1e-7,\n",
    ")\n",
    "# sol = ConjugateGradient(matrix_generator, Array.zeros(\"d\", 50))\n",
    "# sol, vals, res = sol.solve()\n",
    "\n",
    "# # Verifies the solution\n",
    "# print(f\"Inverse Conjugate Gradient solution: \\n{inv}\")\n",
    "\n",
    "\n",
    "# print(f\"Residue: \\n{residue}\")\n",
    "\n"
   ]
  },
  {
   "cell_type": "code",
   "execution_count": null,
   "metadata": {},
   "outputs": [],
   "source": []
  }
 ],
 "metadata": {
  "kernelspec": {
   "display_name": "pegasis",
   "language": "python",
   "name": "python3"
  },
  "language_info": {
   "codemirror_mode": {
    "name": "ipython",
    "version": 3
   },
   "file_extension": ".py",
   "mimetype": "text/x-python",
   "name": "python",
   "nbconvert_exporter": "python",
   "pygments_lexer": "ipython3",
   "version": "3.11.5"
  }
 },
 "nbformat": 4,
 "nbformat_minor": 2
}
