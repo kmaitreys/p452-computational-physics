{
 "cells": [
  {
   "cell_type": "markdown",
   "metadata": {},
   "source": [
    "# Assignment - 3"
   ]
  },
  {
   "cell_type": "code",
   "execution_count": 1,
   "metadata": {},
   "outputs": [],
   "source": [
    "from lib.linalg import power_iteration\n",
    "from lib.datamodels import Matrix, Array"
   ]
  },
  {
   "cell_type": "markdown",
   "metadata": {},
   "source": [
    "### Question 1"
   ]
  },
  {
   "cell_type": "code",
   "execution_count": 2,
   "metadata": {},
   "outputs": [],
   "source": [
    "A = [\n",
    "    [4, 2/3, -4/3, 4/3],\n",
    "    [2/3, 4, 0, 0],\n",
    "    [-4/3, 0, 6, 2],\n",
    "    [4/3, 0, 2, 6]\n",
    "]\n",
    "\n",
    "A = Matrix.from_list(A)\n"
   ]
  },
  {
   "cell_type": "markdown",
   "metadata": {},
   "source": [
    "Part (a)"
   ]
  },
  {
   "cell_type": "code",
   "execution_count": 3,
   "metadata": {},
   "outputs": [
    {
     "name": "stdout",
     "output_type": "stream",
     "text": [
      "Largest eigenvalue of A: 8.0\n",
      "Corresponding eigenvector: ([0.0004730030785359066, 0.000157705156701697, 0.7067912969644516, 0.7074219490039022], double)\n"
     ]
    }
   ],
   "source": [
    "lam, x = power_iteration(A)\n",
    "\n",
    "print(f\"Largest eigenvalue of A: {round(lam, 4)}\")\n",
    "print(f\"Corresponding eigenvector: {round(x, 4})\")\n"
   ]
  },
  {
   "cell_type": "code",
   "execution_count": null,
   "metadata": {},
   "outputs": [],
   "source": []
  }
 ],
 "metadata": {
  "kernelspec": {
   "display_name": "pegasis",
   "language": "python",
   "name": "python3"
  },
  "language_info": {
   "codemirror_mode": {
    "name": "ipython",
    "version": 3
   },
   "file_extension": ".py",
   "mimetype": "text/x-python",
   "name": "python",
   "nbconvert_exporter": "python",
   "pygments_lexer": "ipython3",
   "version": "3.11.5"
  }
 },
 "nbformat": 4,
 "nbformat_minor": 2
}
