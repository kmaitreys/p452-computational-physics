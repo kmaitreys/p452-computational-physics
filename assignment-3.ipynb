{
 "cells": [
  {
   "cell_type": "markdown",
   "metadata": {},
   "source": [
    "# Assignment - 3"
   ]
  },
  {
   "cell_type": "code",
   "execution_count": 1,
   "metadata": {},
   "outputs": [],
   "source": [
    "from IPython.display import display, Latex # type: ignore\n",
    "import matplotlib.pyplot as plt"
   ]
  },
  {
   "cell_type": "code",
   "execution_count": 2,
   "metadata": {},
   "outputs": [],
   "source": [
    "from lib.linalg import power_iteration, QRFactorization\n",
    "from lib.matrix import Matrix\n",
    "from lib.array import Array\n",
    "from lib.optimize import polyfit, get_condition_number, chebyshev\n",
    "from lib.plotter import plot_poly, plot_chebyshev"
   ]
  },
  {
   "cell_type": "markdown",
   "metadata": {},
   "source": [
    "### Question 1"
   ]
  },
  {
   "cell_type": "code",
   "execution_count": 3,
   "metadata": {},
   "outputs": [],
   "source": [
    "A = [[4, 2 / 3, -4 / 3, 4 / 3], [2 / 3, 4, 0, 0], [-4 / 3, 0, 6, 2], [4 / 3, 0, 2, 6]]\n",
    "\n",
    "A = Matrix.from_list(A)"
   ]
  },
  {
   "cell_type": "markdown",
   "metadata": {},
   "source": [
    "Part (a)\n"
   ]
  },
  {
   "cell_type": "code",
   "execution_count": 4,
   "metadata": {},
   "outputs": [
    {
     "name": "stdout",
     "output_type": "stream",
     "text": [
      "Largest eigenvalue of A: 8.0\n",
      "Corresponding eigenvector: ([0.0005, 0.0002, 0.7068, 0.7074], double)\n"
     ]
    }
   ],
   "source": [
    "max_eigval, sol = power_iteration(A)\n",
    "\n",
    "print(f\"Largest eigenvalue of A: {round(max_eigval, 4)}\")\n",
    "print(f\"Corresponding eigenvector: {round(sol, 4)}\")"
   ]
  },
  {
   "cell_type": "markdown",
   "metadata": {},
   "source": [
    "Part (b)\n"
   ]
  },
  {
   "cell_type": "code",
   "execution_count": 5,
   "metadata": {},
   "outputs": [
    {
     "name": "stdout",
     "output_type": "stream",
     "text": [
      "The eigenvalues of A are: ([8.0, 6.0, 4.0, 2.0], double)\n"
     ]
    }
   ],
   "source": [
    "sol = QRFactorization(A)\n",
    "\n",
    "eigvals = sol.solve()\n",
    "\n",
    "print(f\"The eigenvalues of A are: {round(eigvals, 4)}\")"
   ]
  },
  {
   "cell_type": "markdown",
   "metadata": {},
   "source": [
    "### Question 2"
   ]
  },
  {
   "cell_type": "code",
   "execution_count": 6,
   "metadata": {},
   "outputs": [],
   "source": [
    "data = [\n",
    "    #  x\t y\n",
    "    [0.00, 0.486],\n",
    "    [0.05, 0.866],\n",
    "    [0.10, 0.944],\n",
    "    [0.15, 1.144],\n",
    "    [0.20, 1.103],\n",
    "    [0.25, 1.202],\n",
    "    [0.30, 1.166],\n",
    "    [0.35, 1.191],\n",
    "    [0.40, 1.124],\n",
    "    [0.45, 1.095],\n",
    "    [0.50, 1.122],\n",
    "    [0.55, 1.102],\n",
    "    [0.60, 1.099],\n",
    "    [0.65, 1.017],\n",
    "    [0.70, 1.111],\n",
    "    [0.75, 1.117],\n",
    "    [0.80, 1.152],\n",
    "    [0.85, 1.265],\n",
    "    [0.90, 1.380],\n",
    "    [0.95, 1.575],\n",
    "    [1.00, 1.857],\n",
    "]\n",
    "\n",
    "data = Matrix.from_list(data)"
   ]
  },
  {
   "cell_type": "markdown",
   "metadata": {},
   "source": [
    "Using normal Cubic regression"
   ]
  },
  {
   "cell_type": "code",
   "execution_count": 7,
   "metadata": {},
   "outputs": [
    {
     "name": "stdout",
     "output_type": "stream",
     "text": [
      "For standard cubic polynomial of type:\n"
     ]
    },
    {
     "data": {
      "text/latex": [
       "$f(x) = a_0 + a_1x + a_2x^2 + a_3x^3$"
      ],
      "text/plain": [
       "<IPython.core.display.Latex object>"
      ]
     },
     "metadata": {},
     "output_type": "display_data"
    },
    {
     "name": "stdout",
     "output_type": "stream",
     "text": [
      "Coefficients of the polynomial: \n",
      "array('d', [0.57466, 4.72586, -11.12822, 7.66868])\n",
      "Covariance matrix: \n",
      "   0.54404   -3.96041    7.71692   -4.39174\n",
      "  -3.96041   42.86912  -97.35582   60.14891\n",
      "   7.71692  -97.35582  238.27685 -154.09626\n",
      "  -4.39174   60.14891 -154.09626  102.73084\n",
      "Condition number of the covariance matrix: \n",
      "12195.78586908228\n"
     ]
    },
    {
     "data": {
      "image/png": "[encoded data removed]",
      "text/plain": [
       "<Figure size 640x480 with 1 Axes>"
      ]
     },
     "metadata": {},
     "output_type": "display_data"
    }
   ],
   "source": [
    "xdata = Array(\"d\", data[:, 0])\n",
    "ydata = Array(\"d\", data[:, 1])\n",
    "\n",
    "sol, cov = polyfit(xdata, ydata, 3)\n",
    "\n",
    "print(\"For standard cubic polynomial of type:\")\n",
    "display(Latex(r\"$f(x) = a_0 + a_1x + a_2x^2 + a_3x^3$\"))\n",
    "print(f\"Coefficients of the polynomial: \\n{sol}\")\n",
    "\n",
    "print(f\"Covariance matrix: \\n{cov}\")\n",
    "cond = get_condition_number(cov)\n",
    "print(f\"Condition number of the covariance matrix: \\n{cond}\")\n",
    "\n",
    "# Plot the polynomial\n",
    "plot_poly(xdata, ydata, sol, 3)\n",
    "plt.title(\"Cubic polynomial fit\")\n",
    "plt.show()\n"
   ]
  },
  {
   "cell_type": "markdown",
   "metadata": {},
   "source": [
    "Using Chebyshev polynomials"
   ]
  },
  {
   "cell_type": "code",
   "execution_count": 8,
   "metadata": {},
   "outputs": [
    {
     "name": "stdout",
     "output_type": "stream",
     "text": [
      "For Chebyshev polynomial of type:\n"
     ]
    },
    {
     "data": {
      "text/latex": [
       "$f(x) = a_0 + a_1T_1(x) + a_2T_2(x) + a_3T_3(x)$"
      ],
      "text/plain": [
       "<IPython.core.display.Latex object>"
      ]
     },
     "metadata": {},
     "output_type": "display_data"
    },
    {
     "name": "stdout",
     "output_type": "stream",
     "text": [
      "Coefficients of the polynomial: \n",
      "([1.160969479033552, 0.39351446798815237, 0.04684983209010653, 0.23964617571596986], double)\n",
      "Covariance matrix: \n",
      "   0.05554        0.0    0.02972        0.0\n",
      "       0.0    0.14346        0.0    0.03692\n",
      "   0.02972        0.0    0.11144        0.0\n",
      "       0.0    0.03692        0.0    0.10032\n",
      "Condition number of the covariance matrix: \n",
      "6.404597049865556\n"
     ]
    },
    {
     "data": {
      "image/png": "[encoded data removed]",
      "text/plain": [
       "<Figure size 640x480 with 1 Axes>"
      ]
     },
     "metadata": {},
     "output_type": "display_data"
    }
   ],
   "source": [
    "sol, cov = chebyshev(xdata, ydata, 3)\n",
    "\n",
    "print(\"For Chebyshev polynomial of type:\")\n",
    "display(Latex(r\"$f(x) = a_0 + a_1T_1(x) + a_2T_2(x) + a_3T_3(x)$\"))\n",
    "\n",
    "print(f\"Coefficients of the polynomial: \\n{sol}\")\n",
    "\n",
    "print(f\"Covariance matrix: \\n{cov}\")\n",
    "cond = get_condition_number(cov)\n",
    "print(f\"Condition number of the covariance matrix: \\n{cond}\")\n",
    "\n",
    "# Plot the polynomial\n",
    "plt.plot(xdata, ydata, \"o\", label=\"Data\")\n",
    "plot_chebyshev(xdata, sol)\n",
    "plt.title(\"Chebyshev polynomial fit\")\n",
    "plt.show()\n"
   ]
  },
  {
   "cell_type": "markdown",
   "metadata": {},
   "source": [
    "A low condition number for the Chebyshev fit tells us it is less prone or less sensitive in terms of changing the resultant value from the input values. In other terms, the fitting parameters we got from Chebyshev are more mathematical stable than the simple cubic regression."
   ]
  },
  {
   "cell_type": "markdown",
   "metadata": {},
   "source": [
    "### Question 3"
   ]
  },
  {
   "cell_type": "code",
   "execution_count": 10,
   "metadata": {},
   "outputs": [
    {
     "name": "stdout",
     "output_type": "stream",
     "text": [
      "1.8283333333333334\n"
     ]
    }
   ],
   "source": [
    "grades = [\"A\", \"B\", \"C\", \"D\", \"F\"]\n",
    "students = [77, 150, 210, 125, 38]\n",
    "\n",
    "total_students = sum(students)\n",
    "\n",
    "# Expected distribution if grades were normally distributed\n",
    "# Assume \"B\" and \"C\" are the average grades\n",
    "normal_prob = Array(\n",
    "    \"d\",\n",
    "    [0.1359, 0.3413, 0.3413, 0.1359, 0.0214]\n",
    ")\n",
    "\n",
    "expected_distribution = normal_prob * total_students\n",
    "\n",
    "# Chi-square test\n",
    "chi_square = sum((students - expected_distribution) ** 2 / expected_distribution)\n",
    "\n",
    "# Degrees of freedom\n",
    "df = len(grades) - 1\n",
    "\n",
    "# Critical value for 5% significance level\n",
    "# critical = "
   ]
  },
  {
   "cell_type": "code",
   "execution_count": null,
   "metadata": {},
   "outputs": [],
   "source": []
  }
 ],
 "metadata": {
  "kernelspec": {
   "display_name": "pegasis",
   "language": "python",
   "name": "python3"
  },
  "language_info": {
   "codemirror_mode": {
    "name": "ipython",
    "version": 3
   },
   "file_extension": ".py",
   "mimetype": "text/x-python",
   "name": "python",
   "nbconvert_exporter": "python",
   "pygments_lexer": "ipython3",
   "version": "3.11.8"
  }
 },
 "nbformat": 4,
 "nbformat_minor": 2
}
