{
 "cells": [
  {
   "cell_type": "markdown",
   "metadata": {},
   "source": [
    "# Assignment - 3"
   ]
  },
  {
   "cell_type": "code",
   "execution_count": 1,
   "metadata": {},
   "outputs": [],
   "source": [
    "from lib.linalg import power_iteration, QRFactorization\n",
    "from lib.matrix import Matrix"
   ]
  },
  {
   "cell_type": "markdown",
   "metadata": {},
   "source": [
    "### Question 1"
   ]
  },
  {
   "cell_type": "code",
   "execution_count": 2,
   "metadata": {},
   "outputs": [],
   "source": [
    "A = [\n",
    "    [4, 2/3, -4/3, 4/3],\n",
    "    [2/3, 4, 0, 0],\n",
    "    [-4/3, 0, 6, 2],\n",
    "    [4/3, 0, 2, 6]\n",
    "]\n",
    "\n",
    "A = Matrix.from_list(A)\n"
   ]
  },
  {
   "cell_type": "markdown",
   "metadata": {},
   "source": [
    "Part (a)"
   ]
  },
  {
   "cell_type": "code",
   "execution_count": 3,
   "metadata": {},
   "outputs": [
    {
     "name": "stdout",
     "output_type": "stream",
     "text": [
      "Largest eigenvalue of A: 8.0\n",
      "Corresponding eigenvector: ([0.0005, 0.0002, 0.7068, 0.7074], double)\n"
     ]
    }
   ],
   "source": [
    "max_eigval, x = power_iteration(A)\n",
    "\n",
    "print(f\"Largest eigenvalue of A: {round(max_eigval, 4)}\")\n",
    "print(f\"Corresponding eigenvector: {round(x, 4)}\")\n"
   ]
  },
  {
   "cell_type": "markdown",
   "metadata": {},
   "source": [
    "Part (b)"
   ]
  },
  {
   "cell_type": "code",
   "execution_count": 4,
   "metadata": {},
   "outputs": [
    {
     "name": "stdout",
     "output_type": "stream",
     "text": [
      "The eigenvalues of A are: ([8.0, 6.0, 4.0, 2.0], double)\n"
     ]
    }
   ],
   "source": [
    "sol = QRFactorization(A)\n",
    "\n",
    "eigvals = sol.solve()\n",
    "\n",
    "print(f\"The eigenvalues of A are: {round(eigvals, 4)}\")"
   ]
  },
  {
   "cell_type": "markdown",
   "metadata": {},
   "source": [
    "### Question 2"
   ]
  },
  {
   "cell_type": "code",
   "execution_count": 6,
   "metadata": {},
   "outputs": [],
   "source": [
    "data = [\n",
    "    #  x\t y\n",
    "    [0.00, 0.486],\n",
    "    [0.05, 0.866],\n",
    "    [0.10, 0.944],\n",
    "    [0.15, 1.144],\n",
    "    [0.20, 1.103],\n",
    "    [0.25, 1.202],\n",
    "    [0.30, 1.166],\n",
    "    [0.35, 1.191],\n",
    "    [0.40, 1.124],\n",
    "    [0.45, 1.095],\n",
    "    [0.50, 1.122],\n",
    "    [0.55, 1.102],\n",
    "    [0.60, 1.099],\n",
    "    [0.65, 1.017],\n",
    "    [0.70, 1.111],\n",
    "    [0.75, 1.117],\n",
    "    [0.80, 1.152],\n",
    "    [0.85, 1.265],\n",
    "    [0.90, 1.380],\n",
    "    [0.95, 1.575],\n",
    "    [1.00, 1.857],\n",
    "]\n",
    "\n",
    "data= Matrix.from_list(data)"
   ]
  },
  {
   "cell_type": "code",
   "execution_count": 10,
   "metadata": {},
   "outputs": [
    {
     "ename": "IndexError",
     "evalue": "list index out of range",
     "output_type": "error",
     "traceback": [
      "\u001b[0;31m---------------------------------------------------------------------------\u001b[0m",
      "\u001b[0;31mIndexError\u001b[0m                                Traceback (most recent call last)",
      "Cell \u001b[0;32mIn[10], line 46\u001b[0m\n\u001b[1;32m     44\u001b[0m x \u001b[38;5;241m=\u001b[39m data[:, \u001b[38;5;241m0\u001b[39m]\n\u001b[1;32m     45\u001b[0m y \u001b[38;5;241m=\u001b[39m data[:, \u001b[38;5;241m1\u001b[39m]\n\u001b[0;32m---> 46\u001b[0m coeffs \u001b[38;5;241m=\u001b[39m \u001b[43mpolyfit\u001b[49m\u001b[43m(\u001b[49m\u001b[43mx\u001b[49m\u001b[43m,\u001b[49m\u001b[43m \u001b[49m\u001b[43my\u001b[49m\u001b[43m,\u001b[49m\u001b[43m \u001b[49m\u001b[43mdegree\u001b[49m\u001b[38;5;241;43m=\u001b[39;49m\u001b[38;5;241;43m3\u001b[39;49m\u001b[43m)\u001b[49m\n\u001b[1;32m     47\u001b[0m \u001b[38;5;28mprint\u001b[39m(\u001b[38;5;124m\"\u001b[39m\u001b[38;5;124mCoefficients:\u001b[39m\u001b[38;5;124m\"\u001b[39m, coeffs)\n",
      "Cell \u001b[0;32mIn[10], line 12\u001b[0m, in \u001b[0;36mpolyfit\u001b[0;34m(x, y, degree)\u001b[0m\n\u001b[1;32m      9\u001b[0m A \u001b[38;5;241m=\u001b[39m [[xi \u001b[38;5;241m*\u001b[39m\u001b[38;5;241m*\u001b[39m d \u001b[38;5;28;01mfor\u001b[39;00m d \u001b[38;5;129;01min\u001b[39;00m \u001b[38;5;28mrange\u001b[39m(degree \u001b[38;5;241m+\u001b[39m \u001b[38;5;241m1\u001b[39m)] \u001b[38;5;28;01mfor\u001b[39;00m xi \u001b[38;5;129;01min\u001b[39;00m x]\n\u001b[1;32m     11\u001b[0m \u001b[38;5;66;03m# Calculate the coefficients using least squares method\u001b[39;00m\n\u001b[0;32m---> 12\u001b[0m coefficients \u001b[38;5;241m=\u001b[39m \u001b[43mgauss_elimination\u001b[49m\u001b[43m(\u001b[49m\u001b[43mA\u001b[49m\u001b[43m,\u001b[49m\u001b[43m \u001b[49m\u001b[43my\u001b[49m\u001b[43m)\u001b[49m\n\u001b[1;32m     14\u001b[0m \u001b[38;5;28;01mreturn\u001b[39;00m coefficients\n",
      "Cell \u001b[0;32mIn[10], line 31\u001b[0m, in \u001b[0;36mgauss_elimination\u001b[0;34m(A, b)\u001b[0m\n\u001b[1;32m     29\u001b[0m         factor \u001b[38;5;241m=\u001b[39m A[j][i] \u001b[38;5;241m/\u001b[39m A[i][i]\n\u001b[1;32m     30\u001b[0m         \u001b[38;5;28;01mfor\u001b[39;00m k \u001b[38;5;129;01min\u001b[39;00m \u001b[38;5;28mrange\u001b[39m(i, n):\n\u001b[0;32m---> 31\u001b[0m             \u001b[43mA\u001b[49m\u001b[43m[\u001b[49m\u001b[43mj\u001b[49m\u001b[43m]\u001b[49m\u001b[43m[\u001b[49m\u001b[43mk\u001b[49m\u001b[43m]\u001b[49m \u001b[38;5;241m-\u001b[39m\u001b[38;5;241m=\u001b[39m factor \u001b[38;5;241m*\u001b[39m A[i][k]\n\u001b[1;32m     32\u001b[0m         b[j] \u001b[38;5;241m-\u001b[39m\u001b[38;5;241m=\u001b[39m factor \u001b[38;5;241m*\u001b[39m b[i]\n\u001b[1;32m     34\u001b[0m \u001b[38;5;66;03m# Back substitution\u001b[39;00m\n",
      "\u001b[0;31mIndexError\u001b[0m: list index out of range"
     ]
    }
   ],
   "source": [
    "def polyfit(x, y, degree):\n",
    "    n = len(x)\n",
    "    if n != len(y):\n",
    "        raise ValueError(\"x and y must have the same length\")\n",
    "    if degree < 1:\n",
    "        raise ValueError(\"degree must be at least 1\")\n",
    "\n",
    "    # Create the Vandermonde matrix\n",
    "    A = [[xi ** d for d in range(degree + 1)] for xi in x]\n",
    "\n",
    "    # Calculate the coefficients using least squares method\n",
    "    coefficients = gauss_elimination(A, y)\n",
    "\n",
    "    return coefficients\n",
    "\n",
    "def gauss_elimination(A, b):\n",
    "    n = len(A)\n",
    "    for i in range(n):\n",
    "        # Find pivot row\n",
    "        max_row = i\n",
    "        for j in range(i+1, n):\n",
    "            if abs(A[j][i]) > abs(A[max_row][i]):\n",
    "                max_row = j\n",
    "        # Swap rows\n",
    "        A[i], A[max_row] = A[max_row], A[i]\n",
    "        b[i], b[max_row] = b[max_row], b[i]\n",
    "        # Make all rows below this one 0 in current column\n",
    "        for j in range(i+1, n):\n",
    "            factor = A[j][i] / A[i][i]\n",
    "            for k in range(i, n):\n",
    "                A[j][k] -= factor * A[i][k]\n",
    "            b[j] -= factor * b[i]\n",
    "\n",
    "    # Back substitution\n",
    "    x = [0] * n\n",
    "    for i in range(n - 1, -1, -1):\n",
    "        x[i] = b[i] / A[i][i]\n",
    "        for j in range(i - 1, -1, -1):\n",
    "            b[j] -= A[j][i] * x[i]\n",
    "\n",
    "    return x\n",
    "\n",
    "# Example usage:\n",
    "x = data[:, 0]\n",
    "y = data[:, 1]\n",
    "coeffs = polyfit(x, y, degree=3)\n",
    "print(\"Coefficients:\", coeffs)\n",
    "\n",
    "\n",
    "\n"
   ]
  },
  {
   "cell_type": "code",
   "execution_count": null,
   "metadata": {},
   "outputs": [],
   "source": []
  }
 ],
 "metadata": {
  "kernelspec": {
   "display_name": "pegasis",
   "language": "python",
   "name": "python3"
  },
  "language_info": {
   "codemirror_mode": {
    "name": "ipython",
    "version": 3
   },
   "file_extension": ".py",
   "mimetype": "text/x-python",
   "name": "python",
   "nbconvert_exporter": "python",
   "pygments_lexer": "ipython3",
   "version": "3.11.8"
  }
 },
 "nbformat": 4,
 "nbformat_minor": 2
}
