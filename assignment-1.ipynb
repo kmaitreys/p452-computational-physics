{
 "cells": [
  {
   "cell_type": "markdown",
   "metadata": {},
   "source": [
    "# Assignment 1"
   ]
  },
  {
   "cell_type": "code",
   "execution_count": 2,
   "metadata": {},
   "outputs": [],
   "source": [
    "from lib.roots import fixed_point\n",
    "from lib.integrate import simpson, gaussian_quadrature, simpson_alt\n",
    "from lib.plotter import plot\n",
    "import math"
   ]
  },
  {
   "cell_type": "markdown",
   "metadata": {},
   "source": [
    "### 1. Solve $e^{-x} - x = 0$ using the fixed-point method, accurate upto 4 placed in decimal."
   ]
  },
  {
   "cell_type": "code",
   "execution_count": 3,
   "metadata": {},
   "outputs": [
    {
     "name": "stdout",
     "output_type": "stream",
     "text": [
      "problem_one has a root at 0.5671188642569858.\n"
     ]
    }
   ],
   "source": [
    "def problem_one(x):\n",
    "    return math.exp(-x) - x\n",
    "\n",
    "\n",
    "fixed_point(problem_one, 0.5, tol=1e-4, maxiter=1000)"
   ]
  },
  {
   "cell_type": "markdown",
   "metadata": {},
   "source": [
    "### 2. Use Simpson’s rule and appropriate Gaussian quadrature to evaluate the following integral accurate up to 6 places in decimal\n",
    "\n",
    "$$\\int_0^1 \\sqrt{1+x^4}$$"
   ]
  },
  {
   "cell_type": "code",
   "execution_count": 4,
   "metadata": {},
   "outputs": [
    {
     "name": "stdout",
     "output_type": "stream",
     "text": [
      "The value of the integral is 1.089429576103245.\n"
     ]
    },
    {
     "data": {
      "text/plain": [
       "1.0894310420080007"
      ]
     },
     "execution_count": 4,
     "metadata": {},
     "output_type": "execute_result"
    }
   ],
   "source": [
    "def problem_two_simpson(x):\n",
    "    return math.sqrt(1 + x**4)\n",
    "\n",
    "\n",
    "\n",
    "# simpson(problem_two_simpson, 0, 1, 1e7)\n",
    "simpson_alt(problem_two_simpson, 0, 1, 1e-8)"
   ]
  },
  {
   "cell_type": "markdown",
   "metadata": {},
   "source": [
    "To calculate error in this value, we can calculate the fourth-order derivative of the given function and then use its maximum value.\n",
    "The derivatives of given function are\n",
    "\n",
    "$$f'(x) = \\dfrac{2x^3}{\\sqrt{1+x^4}}$$\n",
    "\n",
    "$$f''(x) = \\dfrac{2x^6 + 6x^2}{(1+x^4)^{3/2}}$$\n",
    "\n",
    "$$f'''(x) = -\\dfrac{12x(x^4 -1)}{(1+x^4)^{5/2}}$$\n",
    "\n",
    "$$f''''(x) = \\dfrac{60x^8 -168x^4 + 12}{(1+x^4)^{7/2}}$$\n",
    "\n",
    "The maximum value of $f''''(x)$ can be found graphically as shown below:"
   ]
  },
  {
   "cell_type": "code",
   "execution_count": 5,
   "metadata": {},
   "outputs": [
    {
     "name": "stdout",
     "output_type": "stream",
     "text": [
      "Minimum value of y: -14.06093847425305\n",
      "Maximum value of y: 11.99999999978992\n"
     ]
    },
    {
     "data": {
      "image/png": "[encoded data removed]",
      "text/plain": [
       "<Figure size 640x480 with 1 Axes>"
      ]
     },
     "metadata": {},
     "output_type": "display_data"
    }
   ],
   "source": [
    "def fourth_order_derivative_problem_two(x):\n",
    "    return (60*x**8 - 168*x**4 + 12) / (1+x**4)**3.5\n",
    "\n",
    "plot(fourth_order_derivative_problem_two, (-10, 10), 10000, \"Fourth Order Derivative of f(x)\")\n",
    "\n"
   ]
  },
  {
   "cell_type": "markdown",
   "metadata": {},
   "source": [
    "Now estimating the error as:"
   ]
  },
  {
   "cell_type": "code",
   "execution_count": 6,
   "metadata": {},
   "outputs": [
    {
     "name": "stdout",
     "output_type": "stream",
     "text": [
      "The value of the integral is 1.0895922915420657 with an error of 6.666666666549955e-18.\n"
     ]
    }
   ],
   "source": [
    "simpson(problem_two_simpson, 0, 1, 10000, maximum_value_of_error_func=11.99999999978992)"
   ]
  },
  {
   "cell_type": "markdown",
   "metadata": {},
   "source": [
    "The next step is to use an appropriate Gaussian quadrature to solve the same integral. \n",
    "This can be done by changing the limits of integration by making an appropriate substitution\n",
    "and rewriting the problem as\n",
    "\n",
    "$$\\int_{-1}^{1} \\sqrt{1 + (2t-1)^4} dt$$"
   ]
  },
  {
   "cell_type": "code",
   "execution_count": 7,
   "metadata": {},
   "outputs": [
    {
     "ename": "TypeError",
     "evalue": "gaussian_quadrature() missing 1 required positional argument: 'bounds'",
     "output_type": "error",
     "traceback": [
      "\u001b[0;31m---------------------------------------------------------------------------\u001b[0m",
      "\u001b[0;31mTypeError\u001b[0m                                 Traceback (most recent call last)",
      "Cell \u001b[0;32mIn[7], line 4\u001b[0m\n\u001b[1;32m      1\u001b[0m \u001b[38;5;28;01mdef\u001b[39;00m \u001b[38;5;21mproblem_two_gaussian_quadrature\u001b[39m(t):\n\u001b[1;32m      2\u001b[0m     \u001b[38;5;28;01mreturn\u001b[39;00m math\u001b[38;5;241m.\u001b[39msqrt(\u001b[38;5;241m1\u001b[39m \u001b[38;5;241m+\u001b[39m (\u001b[38;5;241m2\u001b[39m\u001b[38;5;241m*\u001b[39mt \u001b[38;5;241m-\u001b[39m \u001b[38;5;241m1\u001b[39m)\u001b[38;5;241m*\u001b[39m\u001b[38;5;241m*\u001b[39m\u001b[38;5;241m4\u001b[39m)\n\u001b[0;32m----> 4\u001b[0m \u001b[43mgaussian_quadrature\u001b[49m\u001b[43m(\u001b[49m\u001b[38;5;241;43m.\u001b[39;49m\u001b[38;5;241;43m.\u001b[39;49m\u001b[38;5;241;43m.\u001b[39;49m\u001b[43m)\u001b[49m\n",
      "\u001b[0;31mTypeError\u001b[0m: gaussian_quadrature() missing 1 required positional argument: 'bounds'"
     ]
    }
   ],
   "source": [
    "def problem_two_gaussian_quadrature(t):\n",
    "    return math.sqrt(1 + (2*t - 1)**4)\n",
    "\n",
    "gaussian_quadrature(...)\n"
   ]
  }
 ],
 "metadata": {
  "kernelspec": {
   "display_name": "scorpia",
   "language": "python",
   "name": "python3"
  },
  "language_info": {
   "codemirror_mode": {
    "name": "ipython",
    "version": 3
   },
   "file_extension": ".py",
   "mimetype": "text/x-python",
   "name": "python",
   "nbconvert_exporter": "python",
   "pygments_lexer": "ipython3",
   "version": "3.11.5"
  }
 },
 "nbformat": 4,
 "nbformat_minor": 2
}
